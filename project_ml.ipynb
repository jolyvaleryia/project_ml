{
 "cells": [
  {
   "cell_type": "code",
   "execution_count": 1,
   "metadata": {
    "_cell_guid": "b1076dfc-b9ad-4769-8c92-a6c4dae69d19",
    "_uuid": "8f2839f25d086af736a60e9eeb907d3b93b6e0e5",
    "execution": {
     "iopub.execute_input": "2023-11-24T09:24:28.835591Z",
     "iopub.status.busy": "2023-11-24T09:24:28.835164Z",
     "iopub.status.idle": "2023-11-24T09:24:29.898515Z",
     "shell.execute_reply": "2023-11-24T09:24:29.897488Z",
     "shell.execute_reply.started": "2023-11-24T09:24:28.835556Z"
    }
   },
   "outputs": [],
   "source": [
    "# This Python 3 environment comes with many helpful analytics libraries installed\n",
    "# It is defined by the kaggle/python Docker image: https://github.com/kaggle/docker-python\n",
    "# For example, here's several helpful packages to load\n",
    "\n",
    "import numpy as np # linear algebra\n",
    "import pandas as pd # data processing, CSV file I/O (e.g. pd.read_csv)\n",
    "\n",
    "# Input data files are available in the read-only \"../input/\" directory\n",
    "# For example, running this (by clicking run or pressing Shift+Enter) will list all files under the input directory\n",
    "\n",
    "import os\n",
    "for dirname, _, filenames in os.walk('/kaggle/input'):\n",
    "    for filename in filenames:\n",
    "        print(os.path.join(dirname, filename))\n",
    "\n",
    "# You can write up to 20GB to the current directory (/kaggle/working/) that gets preserved as output when you create a version using \"Save & Run All\" \n",
    "# You can also write temporary files to /kaggle/temp/, but they won't be saved outside of the current session"
   ]
  },
  {
   "cell_type": "code",
   "execution_count": 2,
   "metadata": {
    "execution": {
     "iopub.execute_input": "2023-11-24T09:24:32.310374Z",
     "iopub.status.busy": "2023-11-24T09:24:32.309785Z",
     "iopub.status.idle": "2023-11-24T09:24:39.146774Z",
     "shell.execute_reply": "2023-11-24T09:24:39.144534Z",
     "shell.execute_reply.started": "2023-11-24T09:24:32.310341Z"
    }
   },
   "outputs": [],
   "source": [
    "# Отключаем предупреждения\n",
    "import warnings\n",
    "warnings.filterwarnings('ignore')\n",
    "\n",
    "import math\n",
    "import torch\n",
    "import pickle\n",
    "import seaborn as sns\n",
    "import torch.nn as nn\n",
    "import missingno as msno \n",
    "import pyarrow.parquet as pq\n",
    "import matplotlib.pyplot as plt\n",
    "\n",
    "from tqdm import tqdm\n",
    "#from fastparquet import ParquetFile\n",
    "from sklearn.metrics import roc_auc_score\n",
    "from sklearn.model_selection import train_test_split, cross_val_score\n",
    "from sklearn.preprocessing import OneHotEncoder, StandardScaler\n",
    "from sklearn.ensemble import GradientBoostingClassifier\n",
    "from sklearn.ensemble import HistGradientBoostingClassifier\n",
    "from lightgbm import LGBMClassifier\n",
    "from catboost import CatBoostClassifier\n",
    "from sklearn.model_selection import GridSearchCV\n",
    "from sklearn.ensemble import RandomForestClassifier\n",
    "from torch.utils.data import Dataset\n",
    "from torch.utils.data import DataLoader\n",
    "from sklearn.pipeline import Pipeline\n",
    "from sklearn.preprocessing import FunctionTransformer"
   ]
  },
  {
   "cell_type": "markdown",
   "metadata": {},
   "source": [
    "# 1. Загрузка данных:"
   ]
  },
  {
   "cell_type": "code",
   "execution_count": 3,
   "metadata": {},
   "outputs": [
    {
     "name": "stdout",
     "output_type": "stream",
     "text": [
      "<class 'pandas.core.frame.DataFrame'>\n",
      "RangeIndex: 1974724 entries, 0 to 1974723\n",
      "Data columns (total 61 columns):\n",
      " #   Column                         Dtype\n",
      "---  ------                         -----\n",
      " 0   id                             int64\n",
      " 1   rn                             int8 \n",
      " 2   pre_since_opened               int8 \n",
      " 3   pre_since_confirmed            int8 \n",
      " 4   pre_pterm                      int8 \n",
      " 5   pre_fterm                      int8 \n",
      " 6   pre_till_pclose                int8 \n",
      " 7   pre_till_fclose                int8 \n",
      " 8   pre_loans_credit_limit         int8 \n",
      " 9   pre_loans_next_pay_summ        int8 \n",
      " 10  pre_loans_outstanding          int8 \n",
      " 11  pre_loans_total_overdue        int8 \n",
      " 12  pre_loans_max_overdue_sum      int8 \n",
      " 13  pre_loans_credit_cost_rate     int8 \n",
      " 14  pre_loans5                     int8 \n",
      " 15  pre_loans530                   int8 \n",
      " 16  pre_loans3060                  int8 \n",
      " 17  pre_loans6090                  int8 \n",
      " 18  pre_loans90                    int8 \n",
      " 19  is_zero_loans5                 int8 \n",
      " 20  is_zero_loans530               int8 \n",
      " 21  is_zero_loans3060              int8 \n",
      " 22  is_zero_loans6090              int8 \n",
      " 23  is_zero_loans90                int8 \n",
      " 24  pre_util                       int8 \n",
      " 25  pre_over2limit                 int8 \n",
      " 26  pre_maxover2limit              int8 \n",
      " 27  is_zero_util                   int8 \n",
      " 28  is_zero_over2limit             int8 \n",
      " 29  is_zero_maxover2limit          int8 \n",
      " 30  enc_paym_0                     int8 \n",
      " 31  enc_paym_1                     int8 \n",
      " 32  enc_paym_2                     int8 \n",
      " 33  enc_paym_3                     int8 \n",
      " 34  enc_paym_4                     int8 \n",
      " 35  enc_paym_5                     int8 \n",
      " 36  enc_paym_6                     int8 \n",
      " 37  enc_paym_7                     int8 \n",
      " 38  enc_paym_8                     int8 \n",
      " 39  enc_paym_9                     int8 \n",
      " 40  enc_paym_10                    int8 \n",
      " 41  enc_paym_11                    int8 \n",
      " 42  enc_paym_12                    int8 \n",
      " 43  enc_paym_13                    int8 \n",
      " 44  enc_paym_14                    int8 \n",
      " 45  enc_paym_15                    int8 \n",
      " 46  enc_paym_16                    int8 \n",
      " 47  enc_paym_17                    int8 \n",
      " 48  enc_paym_18                    int8 \n",
      " 49  enc_paym_19                    int8 \n",
      " 50  enc_paym_20                    int8 \n",
      " 51  enc_paym_21                    int8 \n",
      " 52  enc_paym_22                    int8 \n",
      " 53  enc_paym_23                    int8 \n",
      " 54  enc_paym_24                    int8 \n",
      " 55  enc_loans_account_holder_type  int8 \n",
      " 56  enc_loans_credit_status        int8 \n",
      " 57  enc_loans_credit_type          int8 \n",
      " 58  enc_loans_account_cur          int8 \n",
      " 59  pclose_flag                    int8 \n",
      " 60  fclose_flag                    int8 \n",
      "dtypes: int64(1), int8(60)\n",
      "memory usage: 128.1 MB\n"
     ]
    }
   ],
   "source": [
    "# Чтение и преобразование первого parquet-файла\n",
    "df = pd.read_parquet('train_data_0.pq')\n",
    "\n",
    "columns = df.columns[1:]\n",
    "\n",
    "for column in columns:\n",
    "    df[column] = df[column].astype('int8')\n",
    "    \n",
    "df.info()"
   ]
  },
  {
   "cell_type": "code",
   "execution_count": 4,
   "metadata": {},
   "outputs": [
    {
     "name": "stdout",
     "output_type": "stream",
     "text": [
      "<class 'pandas.core.frame.DataFrame'>\n",
      "Index: 26162717 entries, 0 to 2450629\n",
      "Data columns (total 61 columns):\n",
      " #   Column                         Dtype\n",
      "---  ------                         -----\n",
      " 0   id                             int64\n",
      " 1   rn                             int8 \n",
      " 2   pre_since_opened               int8 \n",
      " 3   pre_since_confirmed            int8 \n",
      " 4   pre_pterm                      int8 \n",
      " 5   pre_fterm                      int8 \n",
      " 6   pre_till_pclose                int8 \n",
      " 7   pre_till_fclose                int8 \n",
      " 8   pre_loans_credit_limit         int8 \n",
      " 9   pre_loans_next_pay_summ        int8 \n",
      " 10  pre_loans_outstanding          int8 \n",
      " 11  pre_loans_total_overdue        int8 \n",
      " 12  pre_loans_max_overdue_sum      int8 \n",
      " 13  pre_loans_credit_cost_rate     int8 \n",
      " 14  pre_loans5                     int8 \n",
      " 15  pre_loans530                   int8 \n",
      " 16  pre_loans3060                  int8 \n",
      " 17  pre_loans6090                  int8 \n",
      " 18  pre_loans90                    int8 \n",
      " 19  is_zero_loans5                 int8 \n",
      " 20  is_zero_loans530               int8 \n",
      " 21  is_zero_loans3060              int8 \n",
      " 22  is_zero_loans6090              int8 \n",
      " 23  is_zero_loans90                int8 \n",
      " 24  pre_util                       int8 \n",
      " 25  pre_over2limit                 int8 \n",
      " 26  pre_maxover2limit              int8 \n",
      " 27  is_zero_util                   int8 \n",
      " 28  is_zero_over2limit             int8 \n",
      " 29  is_zero_maxover2limit          int8 \n",
      " 30  enc_paym_0                     int8 \n",
      " 31  enc_paym_1                     int8 \n",
      " 32  enc_paym_2                     int8 \n",
      " 33  enc_paym_3                     int8 \n",
      " 34  enc_paym_4                     int8 \n",
      " 35  enc_paym_5                     int8 \n",
      " 36  enc_paym_6                     int8 \n",
      " 37  enc_paym_7                     int8 \n",
      " 38  enc_paym_8                     int8 \n",
      " 39  enc_paym_9                     int8 \n",
      " 40  enc_paym_10                    int8 \n",
      " 41  enc_paym_11                    int8 \n",
      " 42  enc_paym_12                    int8 \n",
      " 43  enc_paym_13                    int8 \n",
      " 44  enc_paym_14                    int8 \n",
      " 45  enc_paym_15                    int8 \n",
      " 46  enc_paym_16                    int8 \n",
      " 47  enc_paym_17                    int8 \n",
      " 48  enc_paym_18                    int8 \n",
      " 49  enc_paym_19                    int8 \n",
      " 50  enc_paym_20                    int8 \n",
      " 51  enc_paym_21                    int8 \n",
      " 52  enc_paym_22                    int8 \n",
      " 53  enc_paym_23                    int8 \n",
      " 54  enc_paym_24                    int8 \n",
      " 55  enc_loans_account_holder_type  int8 \n",
      " 56  enc_loans_credit_status        int8 \n",
      " 57  enc_loans_credit_type          int8 \n",
      " 58  enc_loans_account_cur          int8 \n",
      " 59  pclose_flag                    int8 \n",
      " 60  fclose_flag                    int8 \n",
      "dtypes: int64(1), int8(60)\n",
      "memory usage: 1.9 GB\n"
     ]
    }
   ],
   "source": [
    "# Чтение и преобразование остальных parquet-файлов\n",
    "files = ['train_data_1.pq', 'train_data_2.pq', 'train_data_3.pq',\n",
    "        'train_data_4.pq', 'train_data_5.pq', 'train_data_6.pq', 'train_data_7.pq',\n",
    "        'train_data_8.pq', 'train_data_9.pq', 'train_data_10.pq', 'train_data_11.pq']\n",
    "\n",
    "for file in files:\n",
    "    df_file = pd.read_parquet(file)\n",
    "    \n",
    "    for column in columns:\n",
    "        df_file[column] = df_file[column].astype('int8')\n",
    "        \n",
    "    df = pd.concat([df, df_file], axis=0)\n",
    "\n",
    "del df_file\n",
    "df.info()"
   ]
  },
  {
   "cell_type": "code",
   "execution_count": 5,
   "metadata": {},
   "outputs": [
    {
     "data": {
      "text/plain": [
       "(26162717, 61)"
      ]
     },
     "execution_count": 5,
     "metadata": {},
     "output_type": "execute_result"
    }
   ],
   "source": [
    "# Размерность полученного датасета\n",
    "df.shape"
   ]
  },
  {
   "cell_type": "code",
   "execution_count": 6,
   "metadata": {},
   "outputs": [],
   "source": [
    "# Сохранение полученного датасета в pickle-файл\n",
    "filename = 'df.pickle'\n",
    "\n",
    "with open(filename, 'wb') as file:\n",
    "    pickle.dump(df, file)"
   ]
  },
  {
   "cell_type": "code",
   "execution_count": 6,
   "metadata": {
    "execution": {
     "iopub.execute_input": "2023-11-24T08:52:11.612444Z",
     "iopub.status.busy": "2023-11-24T08:52:11.612104Z",
     "iopub.status.idle": "2023-11-24T08:52:25.781711Z",
     "shell.execute_reply": "2023-11-24T08:52:25.780919Z",
     "shell.execute_reply.started": "2023-11-24T08:52:11.612419Z"
    }
   },
   "outputs": [
    {
     "data": {
      "text/html": [
       "<div>\n",
       "<style scoped>\n",
       "    .dataframe tbody tr th:only-of-type {\n",
       "        vertical-align: middle;\n",
       "    }\n",
       "\n",
       "    .dataframe tbody tr th {\n",
       "        vertical-align: top;\n",
       "    }\n",
       "\n",
       "    .dataframe thead th {\n",
       "        text-align: right;\n",
       "    }\n",
       "</style>\n",
       "<table border=\"1\" class=\"dataframe\">\n",
       "  <thead>\n",
       "    <tr style=\"text-align: right;\">\n",
       "      <th></th>\n",
       "      <th>id</th>\n",
       "      <th>rn</th>\n",
       "      <th>pre_since_opened</th>\n",
       "      <th>pre_since_confirmed</th>\n",
       "      <th>pre_pterm</th>\n",
       "      <th>pre_fterm</th>\n",
       "      <th>pre_till_pclose</th>\n",
       "      <th>pre_till_fclose</th>\n",
       "      <th>pre_loans_credit_limit</th>\n",
       "      <th>pre_loans_next_pay_summ</th>\n",
       "      <th>...</th>\n",
       "      <th>enc_paym_21</th>\n",
       "      <th>enc_paym_22</th>\n",
       "      <th>enc_paym_23</th>\n",
       "      <th>enc_paym_24</th>\n",
       "      <th>enc_loans_account_holder_type</th>\n",
       "      <th>enc_loans_credit_status</th>\n",
       "      <th>enc_loans_credit_type</th>\n",
       "      <th>enc_loans_account_cur</th>\n",
       "      <th>pclose_flag</th>\n",
       "      <th>fclose_flag</th>\n",
       "    </tr>\n",
       "  </thead>\n",
       "  <tbody>\n",
       "    <tr>\n",
       "      <th>0</th>\n",
       "      <td>0</td>\n",
       "      <td>1</td>\n",
       "      <td>18</td>\n",
       "      <td>9</td>\n",
       "      <td>2</td>\n",
       "      <td>3</td>\n",
       "      <td>16</td>\n",
       "      <td>10</td>\n",
       "      <td>11</td>\n",
       "      <td>3</td>\n",
       "      <td>...</td>\n",
       "      <td>3</td>\n",
       "      <td>3</td>\n",
       "      <td>3</td>\n",
       "      <td>4</td>\n",
       "      <td>1</td>\n",
       "      <td>3</td>\n",
       "      <td>4</td>\n",
       "      <td>1</td>\n",
       "      <td>0</td>\n",
       "      <td>0</td>\n",
       "    </tr>\n",
       "    <tr>\n",
       "      <th>1</th>\n",
       "      <td>0</td>\n",
       "      <td>2</td>\n",
       "      <td>18</td>\n",
       "      <td>9</td>\n",
       "      <td>14</td>\n",
       "      <td>14</td>\n",
       "      <td>12</td>\n",
       "      <td>12</td>\n",
       "      <td>0</td>\n",
       "      <td>3</td>\n",
       "      <td>...</td>\n",
       "      <td>0</td>\n",
       "      <td>0</td>\n",
       "      <td>0</td>\n",
       "      <td>4</td>\n",
       "      <td>1</td>\n",
       "      <td>3</td>\n",
       "      <td>4</td>\n",
       "      <td>1</td>\n",
       "      <td>0</td>\n",
       "      <td>0</td>\n",
       "    </tr>\n",
       "    <tr>\n",
       "      <th>2</th>\n",
       "      <td>0</td>\n",
       "      <td>3</td>\n",
       "      <td>18</td>\n",
       "      <td>9</td>\n",
       "      <td>4</td>\n",
       "      <td>8</td>\n",
       "      <td>1</td>\n",
       "      <td>11</td>\n",
       "      <td>11</td>\n",
       "      <td>0</td>\n",
       "      <td>...</td>\n",
       "      <td>0</td>\n",
       "      <td>0</td>\n",
       "      <td>0</td>\n",
       "      <td>4</td>\n",
       "      <td>1</td>\n",
       "      <td>2</td>\n",
       "      <td>3</td>\n",
       "      <td>1</td>\n",
       "      <td>1</td>\n",
       "      <td>1</td>\n",
       "    </tr>\n",
       "    <tr>\n",
       "      <th>3</th>\n",
       "      <td>0</td>\n",
       "      <td>4</td>\n",
       "      <td>4</td>\n",
       "      <td>1</td>\n",
       "      <td>9</td>\n",
       "      <td>12</td>\n",
       "      <td>16</td>\n",
       "      <td>7</td>\n",
       "      <td>12</td>\n",
       "      <td>2</td>\n",
       "      <td>...</td>\n",
       "      <td>3</td>\n",
       "      <td>3</td>\n",
       "      <td>3</td>\n",
       "      <td>4</td>\n",
       "      <td>1</td>\n",
       "      <td>3</td>\n",
       "      <td>1</td>\n",
       "      <td>1</td>\n",
       "      <td>0</td>\n",
       "      <td>0</td>\n",
       "    </tr>\n",
       "    <tr>\n",
       "      <th>4</th>\n",
       "      <td>0</td>\n",
       "      <td>5</td>\n",
       "      <td>5</td>\n",
       "      <td>12</td>\n",
       "      <td>15</td>\n",
       "      <td>2</td>\n",
       "      <td>11</td>\n",
       "      <td>12</td>\n",
       "      <td>10</td>\n",
       "      <td>2</td>\n",
       "      <td>...</td>\n",
       "      <td>3</td>\n",
       "      <td>3</td>\n",
       "      <td>3</td>\n",
       "      <td>4</td>\n",
       "      <td>1</td>\n",
       "      <td>3</td>\n",
       "      <td>4</td>\n",
       "      <td>1</td>\n",
       "      <td>0</td>\n",
       "      <td>0</td>\n",
       "    </tr>\n",
       "  </tbody>\n",
       "</table>\n",
       "<p>5 rows × 61 columns</p>\n",
       "</div>"
      ],
      "text/plain": [
       "   id  rn  pre_since_opened  pre_since_confirmed  pre_pterm  pre_fterm  \\\n",
       "0   0   1                18                    9          2          3   \n",
       "1   0   2                18                    9         14         14   \n",
       "2   0   3                18                    9          4          8   \n",
       "3   0   4                 4                    1          9         12   \n",
       "4   0   5                 5                   12         15          2   \n",
       "\n",
       "   pre_till_pclose  pre_till_fclose  pre_loans_credit_limit  \\\n",
       "0               16               10                      11   \n",
       "1               12               12                       0   \n",
       "2                1               11                      11   \n",
       "3               16                7                      12   \n",
       "4               11               12                      10   \n",
       "\n",
       "   pre_loans_next_pay_summ  ...  enc_paym_21  enc_paym_22  enc_paym_23  \\\n",
       "0                        3  ...            3            3            3   \n",
       "1                        3  ...            0            0            0   \n",
       "2                        0  ...            0            0            0   \n",
       "3                        2  ...            3            3            3   \n",
       "4                        2  ...            3            3            3   \n",
       "\n",
       "   enc_paym_24  enc_loans_account_holder_type  enc_loans_credit_status  \\\n",
       "0            4                              1                        3   \n",
       "1            4                              1                        3   \n",
       "2            4                              1                        2   \n",
       "3            4                              1                        3   \n",
       "4            4                              1                        3   \n",
       "\n",
       "   enc_loans_credit_type  enc_loans_account_cur  pclose_flag  fclose_flag  \n",
       "0                      4                      1            0            0  \n",
       "1                      4                      1            0            0  \n",
       "2                      3                      1            1            1  \n",
       "3                      1                      1            0            0  \n",
       "4                      4                      1            0            0  \n",
       "\n",
       "[5 rows x 61 columns]"
      ]
     },
     "execution_count": 6,
     "metadata": {},
     "output_type": "execute_result"
    }
   ],
   "source": [
    "# Чтение всего датасета из pickle-файла\n",
    "df = pd.read_pickle('/kaggle/input/df-pickle/df.pickle')\n",
    "df.head()"
   ]
  },
  {
   "cell_type": "markdown",
   "metadata": {},
   "source": [
    "# 2. Data Preparation:"
   ]
  },
  {
   "cell_type": "markdown",
   "metadata": {},
   "source": [
    "## 2.1. Data Cleaning:"
   ]
  },
  {
   "cell_type": "markdown",
   "metadata": {},
   "source": [
    "### 2.1.1. Проверка на дубликаты:"
   ]
  },
  {
   "cell_type": "code",
   "execution_count": 4,
   "metadata": {
    "execution": {
     "iopub.execute_input": "2023-11-23T12:00:35.688039Z",
     "iopub.status.busy": "2023-11-23T12:00:35.687401Z",
     "iopub.status.idle": "2023-11-23T12:01:46.348101Z",
     "shell.execute_reply": "2023-11-23T12:01:46.346929Z",
     "shell.execute_reply.started": "2023-11-23T12:00:35.687995Z"
    }
   },
   "outputs": [
    {
     "data": {
      "text/plain": [
       "0"
      ]
     },
     "execution_count": 4,
     "metadata": {},
     "output_type": "execute_result"
    }
   ],
   "source": [
    "# Выводим общее колчество задублированных строк\n",
    "df.duplicated().sum()"
   ]
  },
  {
   "cell_type": "markdown",
   "metadata": {},
   "source": [
    "### 2.1.2. Проверка на пропуски:"
   ]
  },
  {
   "cell_type": "code",
   "execution_count": 5,
   "metadata": {
    "execution": {
     "iopub.execute_input": "2023-11-23T12:02:08.569091Z",
     "iopub.status.busy": "2023-11-23T12:02:08.568590Z",
     "iopub.status.idle": "2023-11-23T12:02:13.020331Z",
     "shell.execute_reply": "2023-11-23T12:02:13.019101Z",
     "shell.execute_reply.started": "2023-11-23T12:02:08.569059Z"
    }
   },
   "outputs": [
    {
     "data": {
      "image/png": "[encoded data removed]",
      "text/plain": [
       "<Figure size 2500x1800 with 3 Axes>"
      ]
     },
     "metadata": {},
     "output_type": "display_data"
    }
   ],
   "source": [
    "# Визуализируем полноту заполнения колонок\n",
    "msno.bar(df);"
   ]
  },
  {
   "cell_type": "code",
   "execution_count": 6,
   "metadata": {
    "execution": {
     "iopub.execute_input": "2023-11-23T12:02:19.368474Z",
     "iopub.status.busy": "2023-11-23T12:02:19.367805Z",
     "iopub.status.idle": "2023-11-23T12:02:20.924566Z",
     "shell.execute_reply": "2023-11-23T12:02:20.923497Z",
     "shell.execute_reply.started": "2023-11-23T12:02:19.368428Z"
    }
   },
   "outputs": [
    {
     "name": "stdout",
     "output_type": "stream",
     "text": [
      "Пропущенных значений в датасете нет\n"
     ]
    }
   ],
   "source": [
    "# Функция, показывающая процент пропущенных значений в колонках\n",
    "def persent_missing_values(df):\n",
    "    missing_values = (round((df.isna().sum() / len(df)) * 100, 2)).sort_values(ascending=False)\n",
    "    \n",
    "    if (missing_values[missing_values.values > 0]).isna().sum() != 0:\n",
    "        print('Процент пропущенных значений: ')\n",
    "        return missing_values[missing_values.values > 0]\n",
    "    else:\n",
    "        print('Пропущенных значений в датасете нет')\n",
    "        \n",
    "persent_missing_values(df)"
   ]
  },
  {
   "cell_type": "markdown",
   "metadata": {},
   "source": [
    "### 2.1.3. Нахождение выбросов и аномалий:"
   ]
  },
  {
   "cell_type": "code",
   "execution_count": 7,
   "metadata": {
    "execution": {
     "iopub.execute_input": "2023-11-23T12:02:23.168281Z",
     "iopub.status.busy": "2023-11-23T12:02:23.167763Z",
     "iopub.status.idle": "2023-11-23T12:02:23.174940Z",
     "shell.execute_reply": "2023-11-23T12:02:23.173811Z",
     "shell.execute_reply.started": "2023-11-23T12:02:23.168241Z"
    }
   },
   "outputs": [],
   "source": [
    "# Функция нахождения границ диапазона нормальных значений\n",
    "def calculate_outliers(data):\n",
    "    q25 = data.quantile(0.25)\n",
    "    q75 = data.quantile(0.75)\n",
    "    iqr = q75 - q25\n",
    "    boundaries = (q25 - 1.5 * iqr, q75 + 1.5 * iqr)\n",
    "\n",
    "    return boundaries"
   ]
  },
  {
   "cell_type": "code",
   "execution_count": 9,
   "metadata": {
    "execution": {
     "iopub.execute_input": "2023-11-23T12:02:28.268558Z",
     "iopub.status.busy": "2023-11-23T12:02:28.268018Z",
     "iopub.status.idle": "2023-11-23T12:02:28.276045Z",
     "shell.execute_reply": "2023-11-23T12:02:28.274538Z",
     "shell.execute_reply.started": "2023-11-23T12:02:28.268518Z"
    }
   },
   "outputs": [],
   "source": [
    "# Функция нахождения значений, выходящих за границы диапазона нормальных значений\n",
    "def boundaries_result(data):\n",
    "    boundaries = calculate_outliers(data)\n",
    "    is_outlier = (data < boundaries[0]) | (data > boundaries[1])\n",
    "    print('Границы диапазона:', boundaries)\n",
    "    print('Количество значений, выходящих за границы диапазона:', is_outlier.sum())"
   ]
  },
  {
   "cell_type": "markdown",
   "metadata": {},
   "source": [
    "#### Нахождение выбросов и аномалий для колонки \"rn\":"
   ]
  },
  {
   "cell_type": "code",
   "execution_count": 10,
   "metadata": {
    "execution": {
     "iopub.execute_input": "2023-11-23T12:02:30.769005Z",
     "iopub.status.busy": "2023-11-23T12:02:30.768508Z",
     "iopub.status.idle": "2023-11-23T12:02:31.443952Z",
     "shell.execute_reply": "2023-11-23T12:02:31.442677Z",
     "shell.execute_reply.started": "2023-11-23T12:02:30.768964Z"
    }
   },
   "outputs": [
    {
     "name": "stdout",
     "output_type": "stream",
     "text": [
      "Границы диапазона: (-7.5, 20.5)\n",
      "Количество значений, выходящих за границы диапазона: 624805\n"
     ]
    }
   ],
   "source": [
    "boundaries_result(df['rn'])"
   ]
  },
  {
   "cell_type": "code",
   "execution_count": 11,
   "metadata": {
    "execution": {
     "iopub.execute_input": "2023-11-23T12:02:33.468428Z",
     "iopub.status.busy": "2023-11-23T12:02:33.467921Z",
     "iopub.status.idle": "2023-11-23T12:02:34.618389Z",
     "shell.execute_reply": "2023-11-23T12:02:34.617198Z",
     "shell.execute_reply.started": "2023-11-23T12:02:33.468390Z"
    }
   },
   "outputs": [
    {
     "data": {
      "text/plain": [
       "array([21, 22, 23, 24, 25, 26, 27, 28, 29, 30, 31, 32, 33, 34, 35, 36, 37,\n",
       "       38, 39, 40, 41, 42, 43, 44, 45, 46, 47, 48, 49, 50, 51, 52, 53, 54,\n",
       "       55, 56, 57, 58], dtype=int8)"
      ]
     },
     "execution_count": 11,
     "metadata": {},
     "output_type": "execute_result"
    }
   ],
   "source": [
    "boundaries = calculate_outliers(df['rn'])\n",
    "df[(df['rn'] < boundaries[0]) | (df['rn'] > boundaries[1])]['rn'].unique()"
   ]
  },
  {
   "cell_type": "code",
   "execution_count": 12,
   "metadata": {
    "execution": {
     "iopub.execute_input": "2023-11-23T12:02:37.468384Z",
     "iopub.status.busy": "2023-11-23T12:02:37.467871Z",
     "iopub.status.idle": "2023-11-23T12:02:42.915730Z",
     "shell.execute_reply": "2023-11-23T12:02:42.914372Z",
     "shell.execute_reply.started": "2023-11-23T12:02:37.468346Z"
    }
   },
   "outputs": [
    {
     "data": {
      "image/png": "[encoded data removed]",
      "text/plain": [
       "<Figure size 2000x1000 with 2 Axes>"
      ]
     },
     "metadata": {},
     "output_type": "display_data"
    }
   ],
   "source": [
    "# Визуализация с помощью гистограммы и ящика с усами\n",
    "fig, (ax1, ax2) = plt.subplots(nrows=2, ncols=1, figsize=(20, 10), sharex=True)\n",
    "\n",
    "ax1.hist(df['rn'], bins=70, color='coral')\n",
    "ax1.set_title('Гистограмма')\n",
    "ax1.axvline(df['rn'].median(), color='darkviolet', linestyle='dotted', linewidth=2)\n",
    "ax1.axvline(df['rn'].min(), color='darkviolet', linestyle='dotted', linewidth=2)\n",
    "ax1.axvline(df['rn'].max(), color='darkviolet', linestyle='dotted', linewidth=2)\n",
    "\n",
    "ax1.text(df['rn'].median(),-100,'median',rotation=0)\n",
    "ax1.text(df['rn'].min(),-100,'min',rotation=0)\n",
    "ax1.text(df['rn'].max(),-100,'max',rotation=0)\n",
    "\n",
    "ax2.boxplot(df['rn'], vert=False)\n",
    "ax2.axvline(df['rn'].median(), color='darkviolet', linestyle='dotted', linewidth=2)\n",
    "ax2.set_title('Ящик с усами')\n",
    "\n",
    "fig.suptitle('Номера кредитных продуктов');"
   ]
  },
  {
   "cell_type": "markdown",
   "metadata": {},
   "source": [
    "#### Нахождение выбросов и аномалий для остальных колонок:"
   ]
  },
  {
   "cell_type": "code",
   "execution_count": 7,
   "metadata": {
    "execution": {
     "iopub.execute_input": "2023-11-24T08:53:11.999129Z",
     "iopub.status.busy": "2023-11-24T08:53:11.998738Z",
     "iopub.status.idle": "2023-11-24T08:53:12.007946Z",
     "shell.execute_reply": "2023-11-24T08:53:12.006590Z",
     "shell.execute_reply.started": "2023-11-24T08:53:11.999098Z"
    }
   },
   "outputs": [
    {
     "data": {
      "text/plain": [
       "Index(['pre_since_opened', 'pre_since_confirmed', 'pre_pterm', 'pre_fterm',\n",
       "       'pre_till_pclose', 'pre_till_fclose', 'pre_loans_credit_limit',\n",
       "       'pre_loans_next_pay_summ', 'pre_loans_outstanding',\n",
       "       'pre_loans_total_overdue', 'pre_loans_max_overdue_sum',\n",
       "       'pre_loans_credit_cost_rate', 'pre_loans5', 'pre_loans530',\n",
       "       'pre_loans3060', 'pre_loans6090', 'pre_loans90', 'is_zero_loans5',\n",
       "       'is_zero_loans530', 'is_zero_loans3060', 'is_zero_loans6090',\n",
       "       'is_zero_loans90', 'pre_util', 'pre_over2limit', 'pre_maxover2limit',\n",
       "       'is_zero_util', 'is_zero_over2limit', 'is_zero_maxover2limit',\n",
       "       'enc_paym_0', 'enc_paym_1', 'enc_paym_2', 'enc_paym_3', 'enc_paym_4',\n",
       "       'enc_paym_5', 'enc_paym_6', 'enc_paym_7', 'enc_paym_8', 'enc_paym_9',\n",
       "       'enc_paym_10', 'enc_paym_11', 'enc_paym_12', 'enc_paym_13',\n",
       "       'enc_paym_14', 'enc_paym_15', 'enc_paym_16', 'enc_paym_17',\n",
       "       'enc_paym_18', 'enc_paym_19', 'enc_paym_20', 'enc_paym_21',\n",
       "       'enc_paym_22', 'enc_paym_23', 'enc_paym_24',\n",
       "       'enc_loans_account_holder_type', 'enc_loans_credit_status',\n",
       "       'enc_loans_credit_type', 'enc_loans_account_cur', 'pclose_flag',\n",
       "       'fclose_flag'],\n",
       "      dtype='object')"
      ]
     },
     "execution_count": 7,
     "metadata": {},
     "output_type": "execute_result"
    }
   ],
   "source": [
    "# Создание списка категориальных признаков\n",
    "columns = df.columns[2:]\n",
    "columns"
   ]
  },
  {
   "cell_type": "code",
   "execution_count": 14,
   "metadata": {
    "execution": {
     "iopub.execute_input": "2023-11-23T12:03:02.868389Z",
     "iopub.status.busy": "2023-11-23T12:03:02.867844Z",
     "iopub.status.idle": "2023-11-23T12:03:11.784216Z",
     "shell.execute_reply": "2023-11-23T12:03:11.782914Z",
     "shell.execute_reply.started": "2023-11-23T12:03:02.868346Z"
    }
   },
   "outputs": [
    {
     "name": "stdout",
     "output_type": "stream",
     "text": [
      "pre_since_opened :  [18  4  5  3  2  1  7  8 15 14 10 13 12  0  6  9 19 17 11 16]\n",
      "pre_since_confirmed :  [ 9  1 12  0  7  3  4 14  6  8  5 16  2 10 17 11 13 15]\n",
      "pre_pterm :  [ 2 14  4  9 15 11  1 12 13  7  8  0 16 17 10  6  3  5]\n",
      "pre_fterm :  [ 3 14  8 12  2 13 10 15  6  0 11  9  1 16  7  5  4]\n",
      "pre_till_pclose :  [16 12  1 11 14  8  9 13  6 15  7  3  2  5  4 10  0]\n",
      "pre_till_fclose :  [10 12 11  7 14  8  1 13  5  3 15  2  6  9  0  4]\n",
      "pre_loans_credit_limit :  [11  0 12 10  4 15  2 16  1  6  3 14 19 13 18  5 17  8  7  9]\n",
      "pre_loans_next_pay_summ :  [3 0 2 5 4 1 6]\n",
      "pre_loans_outstanding :  [3 5 1 2 4]\n",
      "pre_loans_total_overdue :  [0 1]\n",
      "pre_loans_max_overdue_sum :  [2 1 3 0]\n",
      "pre_loans_credit_cost_rate :  [11  8  4  3 13  0  7  5  9  1  2 10  6 12]\n",
      "pre_loans5 :  [ 6  0  5  3  2 16 13  7  1  9  8 11 10]\n",
      "pre_loans530 :  [16  2  0  6 13 18 12  4  3  1 15 14 10 11  7 19  9 17  5  8]\n",
      "pre_loans3060 :  [5 8 9 2 7 1 3 0 4 6]\n",
      "pre_loans6090 :  [4 1 2 3 0]\n",
      "pre_loans90 :  [ 8 14 13 19  2 10  3]\n",
      "is_zero_loans5 :  [1 0]\n",
      "is_zero_loans530 :  [1 0]\n",
      "is_zero_loans3060 :  [1 0]\n",
      "is_zero_loans6090 :  [1 0]\n",
      "is_zero_loans90 :  [1 0]\n",
      "pre_util :  [16 15  9  1  2  0  3  6  4 13 18  7 10 12 11  5  8 19 17 14]\n",
      "pre_over2limit :  [ 2  5 10  0 15 17  8 12  6 18 16  1  4 19  9 11 14  3  7 13]\n",
      "pre_maxover2limit :  [17  4  8 10 11  0  3  5 14 15 12  9 16  6 13 19  7  1  2 18]\n",
      "is_zero_util :  [1 0]\n",
      "is_zero_over2limit :  [1 0]\n",
      "is_zero_maxover2limit :  [1 0]\n",
      "enc_paym_0 :  [0 1 3 2]\n",
      "enc_paym_1 :  [0 3 1 2]\n",
      "enc_paym_2 :  [3 0 1 2]\n",
      "enc_paym_3 :  [3 0 1 2]\n",
      "enc_paym_4 :  [3 0 1 2]\n",
      "enc_paym_5 :  [3 0 1 2]\n",
      "enc_paym_6 :  [3 0 1 2]\n",
      "enc_paym_7 :  [3 0 2 1]\n",
      "enc_paym_8 :  [3 0 1 2]\n",
      "enc_paym_9 :  [3 0 2 1]\n",
      "enc_paym_10 :  [3 0 1 2]\n",
      "enc_paym_11 :  [4 1 2 3]\n",
      "enc_paym_12 :  [3 0 1 2]\n",
      "enc_paym_13 :  [3 0 1 2]\n",
      "enc_paym_14 :  [3 0 1 2]\n",
      "enc_paym_15 :  [3 0 1 2]\n",
      "enc_paym_16 :  [3 0 2 1]\n",
      "enc_paym_17 :  [3 0 1 2]\n",
      "enc_paym_18 :  [3 0 2 1]\n",
      "enc_paym_19 :  [3 0 1 2]\n",
      "enc_paym_20 :  [4 1 2 3]\n",
      "enc_paym_21 :  [3 0 1 2]\n",
      "enc_paym_22 :  [3 0 1 2]\n",
      "enc_paym_23 :  [3 0 1 2]\n",
      "enc_paym_24 :  [4 1 2 3]\n",
      "enc_loans_account_holder_type :  [1 3 4 2 6 5 0]\n",
      "enc_loans_credit_status :  [3 2 5 4 1 0 6]\n",
      "enc_loans_credit_type :  [4 3 1 5 0 2 6 7]\n",
      "enc_loans_account_cur :  [1 2 0 3]\n",
      "pclose_flag :  [0 1]\n",
      "fclose_flag :  [0 1]\n"
     ]
    }
   ],
   "source": [
    "# Уникальные значения для каждого из категориальных признаков\n",
    "for column in columns:\n",
    "    print(column, ': ', df[column].unique())"
   ]
  },
  {
   "cell_type": "markdown",
   "metadata": {},
   "source": [
    "## 2.2. Feature engineering:"
   ]
  },
  {
   "cell_type": "markdown",
   "metadata": {},
   "source": [
    "### 2.2.1. Преобразование категориальных данных:"
   ]
  },
  {
   "cell_type": "code",
   "execution_count": 8,
   "metadata": {
    "execution": {
     "iopub.execute_input": "2023-11-24T08:53:16.238058Z",
     "iopub.status.busy": "2023-11-24T08:53:16.237698Z",
     "iopub.status.idle": "2023-11-24T08:59:37.571957Z",
     "shell.execute_reply": "2023-11-24T08:59:37.570565Z",
     "shell.execute_reply.started": "2023-11-24T08:53:16.238034Z"
    }
   },
   "outputs": [
    {
     "data": {
      "text/html": [
       "<div>\n",
       "<style scoped>\n",
       "    .dataframe tbody tr th:only-of-type {\n",
       "        vertical-align: middle;\n",
       "    }\n",
       "\n",
       "    .dataframe tbody tr th {\n",
       "        vertical-align: top;\n",
       "    }\n",
       "\n",
       "    .dataframe thead th {\n",
       "        text-align: right;\n",
       "    }\n",
       "</style>\n",
       "<table border=\"1\" class=\"dataframe\">\n",
       "  <thead>\n",
       "    <tr style=\"text-align: right;\">\n",
       "      <th></th>\n",
       "      <th>pre_since_opened_0</th>\n",
       "      <th>pre_since_opened_1</th>\n",
       "      <th>pre_since_opened_2</th>\n",
       "      <th>pre_since_opened_3</th>\n",
       "      <th>pre_since_opened_4</th>\n",
       "      <th>pre_since_opened_5</th>\n",
       "      <th>pre_since_opened_6</th>\n",
       "      <th>pre_since_opened_7</th>\n",
       "      <th>pre_since_opened_8</th>\n",
       "      <th>pre_since_opened_9</th>\n",
       "      <th>...</th>\n",
       "      <th>enc_loans_credit_type_6</th>\n",
       "      <th>enc_loans_credit_type_7</th>\n",
       "      <th>enc_loans_account_cur_0</th>\n",
       "      <th>enc_loans_account_cur_1</th>\n",
       "      <th>enc_loans_account_cur_2</th>\n",
       "      <th>enc_loans_account_cur_3</th>\n",
       "      <th>pclose_flag_0</th>\n",
       "      <th>pclose_flag_1</th>\n",
       "      <th>fclose_flag_0</th>\n",
       "      <th>fclose_flag_1</th>\n",
       "    </tr>\n",
       "    <tr>\n",
       "      <th>id</th>\n",
       "      <th></th>\n",
       "      <th></th>\n",
       "      <th></th>\n",
       "      <th></th>\n",
       "      <th></th>\n",
       "      <th></th>\n",
       "      <th></th>\n",
       "      <th></th>\n",
       "      <th></th>\n",
       "      <th></th>\n",
       "      <th></th>\n",
       "      <th></th>\n",
       "      <th></th>\n",
       "      <th></th>\n",
       "      <th></th>\n",
       "      <th></th>\n",
       "      <th></th>\n",
       "      <th></th>\n",
       "      <th></th>\n",
       "      <th></th>\n",
       "      <th></th>\n",
       "    </tr>\n",
       "  </thead>\n",
       "  <tbody>\n",
       "    <tr>\n",
       "      <th>0</th>\n",
       "      <td>0</td>\n",
       "      <td>1</td>\n",
       "      <td>1</td>\n",
       "      <td>1</td>\n",
       "      <td>1</td>\n",
       "      <td>2</td>\n",
       "      <td>0</td>\n",
       "      <td>1</td>\n",
       "      <td>0</td>\n",
       "      <td>0</td>\n",
       "      <td>...</td>\n",
       "      <td>0</td>\n",
       "      <td>0</td>\n",
       "      <td>0</td>\n",
       "      <td>10</td>\n",
       "      <td>0</td>\n",
       "      <td>0</td>\n",
       "      <td>9</td>\n",
       "      <td>1</td>\n",
       "      <td>8</td>\n",
       "      <td>2</td>\n",
       "    </tr>\n",
       "    <tr>\n",
       "      <th>1</th>\n",
       "      <td>0</td>\n",
       "      <td>0</td>\n",
       "      <td>1</td>\n",
       "      <td>0</td>\n",
       "      <td>0</td>\n",
       "      <td>0</td>\n",
       "      <td>0</td>\n",
       "      <td>1</td>\n",
       "      <td>2</td>\n",
       "      <td>0</td>\n",
       "      <td>...</td>\n",
       "      <td>0</td>\n",
       "      <td>0</td>\n",
       "      <td>0</td>\n",
       "      <td>14</td>\n",
       "      <td>0</td>\n",
       "      <td>0</td>\n",
       "      <td>13</td>\n",
       "      <td>1</td>\n",
       "      <td>12</td>\n",
       "      <td>2</td>\n",
       "    </tr>\n",
       "    <tr>\n",
       "      <th>2</th>\n",
       "      <td>1</td>\n",
       "      <td>0</td>\n",
       "      <td>0</td>\n",
       "      <td>0</td>\n",
       "      <td>0</td>\n",
       "      <td>0</td>\n",
       "      <td>0</td>\n",
       "      <td>0</td>\n",
       "      <td>0</td>\n",
       "      <td>0</td>\n",
       "      <td>...</td>\n",
       "      <td>0</td>\n",
       "      <td>0</td>\n",
       "      <td>0</td>\n",
       "      <td>3</td>\n",
       "      <td>0</td>\n",
       "      <td>0</td>\n",
       "      <td>1</td>\n",
       "      <td>2</td>\n",
       "      <td>1</td>\n",
       "      <td>2</td>\n",
       "    </tr>\n",
       "    <tr>\n",
       "      <th>3</th>\n",
       "      <td>0</td>\n",
       "      <td>3</td>\n",
       "      <td>1</td>\n",
       "      <td>0</td>\n",
       "      <td>2</td>\n",
       "      <td>1</td>\n",
       "      <td>3</td>\n",
       "      <td>0</td>\n",
       "      <td>0</td>\n",
       "      <td>0</td>\n",
       "      <td>...</td>\n",
       "      <td>0</td>\n",
       "      <td>0</td>\n",
       "      <td>0</td>\n",
       "      <td>15</td>\n",
       "      <td>0</td>\n",
       "      <td>0</td>\n",
       "      <td>10</td>\n",
       "      <td>5</td>\n",
       "      <td>9</td>\n",
       "      <td>6</td>\n",
       "    </tr>\n",
       "    <tr>\n",
       "      <th>4</th>\n",
       "      <td>0</td>\n",
       "      <td>0</td>\n",
       "      <td>0</td>\n",
       "      <td>0</td>\n",
       "      <td>0</td>\n",
       "      <td>0</td>\n",
       "      <td>0</td>\n",
       "      <td>0</td>\n",
       "      <td>0</td>\n",
       "      <td>0</td>\n",
       "      <td>...</td>\n",
       "      <td>0</td>\n",
       "      <td>0</td>\n",
       "      <td>0</td>\n",
       "      <td>1</td>\n",
       "      <td>0</td>\n",
       "      <td>0</td>\n",
       "      <td>0</td>\n",
       "      <td>1</td>\n",
       "      <td>0</td>\n",
       "      <td>1</td>\n",
       "    </tr>\n",
       "  </tbody>\n",
       "</table>\n",
       "<p>5 rows × 419 columns</p>\n",
       "</div>"
      ],
      "text/plain": [
       "    pre_since_opened_0  pre_since_opened_1  pre_since_opened_2  \\\n",
       "id                                                               \n",
       "0                    0                   1                   1   \n",
       "1                    0                   0                   1   \n",
       "2                    1                   0                   0   \n",
       "3                    0                   3                   1   \n",
       "4                    0                   0                   0   \n",
       "\n",
       "    pre_since_opened_3  pre_since_opened_4  pre_since_opened_5  \\\n",
       "id                                                               \n",
       "0                    1                   1                   2   \n",
       "1                    0                   0                   0   \n",
       "2                    0                   0                   0   \n",
       "3                    0                   2                   1   \n",
       "4                    0                   0                   0   \n",
       "\n",
       "    pre_since_opened_6  pre_since_opened_7  pre_since_opened_8  \\\n",
       "id                                                               \n",
       "0                    0                   1                   0   \n",
       "1                    0                   1                   2   \n",
       "2                    0                   0                   0   \n",
       "3                    3                   0                   0   \n",
       "4                    0                   0                   0   \n",
       "\n",
       "    pre_since_opened_9  ...  enc_loans_credit_type_6  enc_loans_credit_type_7  \\\n",
       "id                      ...                                                     \n",
       "0                    0  ...                        0                        0   \n",
       "1                    0  ...                        0                        0   \n",
       "2                    0  ...                        0                        0   \n",
       "3                    0  ...                        0                        0   \n",
       "4                    0  ...                        0                        0   \n",
       "\n",
       "    enc_loans_account_cur_0  enc_loans_account_cur_1  enc_loans_account_cur_2  \\\n",
       "id                                                                              \n",
       "0                         0                       10                        0   \n",
       "1                         0                       14                        0   \n",
       "2                         0                        3                        0   \n",
       "3                         0                       15                        0   \n",
       "4                         0                        1                        0   \n",
       "\n",
       "    enc_loans_account_cur_3  pclose_flag_0  pclose_flag_1  fclose_flag_0  \\\n",
       "id                                                                         \n",
       "0                         0              9              1              8   \n",
       "1                         0             13              1             12   \n",
       "2                         0              1              2              1   \n",
       "3                         0             10              5              9   \n",
       "4                         0              0              1              0   \n",
       "\n",
       "    fclose_flag_1  \n",
       "id                 \n",
       "0               2  \n",
       "1               2  \n",
       "2               2  \n",
       "3               6  \n",
       "4               1  \n",
       "\n",
       "[5 rows x 419 columns]"
      ]
     },
     "execution_count": 8,
     "metadata": {},
     "output_type": "execute_result"
    }
   ],
   "source": [
    "# Преобразование с помощью OneHotEncoder\n",
    "id_df = df[['id']]\n",
    "data_df = id_df.groupby(['id']).agg(func=sum)\n",
    "\n",
    "ohe = OneHotEncoder(sparse=False)\n",
    "\n",
    "for column in columns:\n",
    "    data = df[[column]] \n",
    "    \n",
    "    ohe.fit(data)\n",
    "    ohe_data = ohe.transform(data)\n",
    "    \n",
    "    id_df[ohe.get_feature_names_out()] = ohe_data.astype('int8')\n",
    "    id_df = id_df.groupby(['id']).agg(func=sum)\n",
    "    \n",
    "    data_df = data_df.merge(id_df, left_on='id', right_on='id', how='inner')\n",
    "    id_df = df[['id']]\n",
    "\n",
    "data_df.head(5)"
   ]
  },
  {
   "cell_type": "markdown",
   "metadata": {},
   "source": [
    "### 2.2.2. Агрегация признака \"rn\":"
   ]
  },
  {
   "cell_type": "code",
   "execution_count": 9,
   "metadata": {
    "execution": {
     "iopub.execute_input": "2023-11-24T09:02:39.066423Z",
     "iopub.status.busy": "2023-11-24T09:02:39.066032Z",
     "iopub.status.idle": "2023-11-24T09:02:39.940875Z",
     "shell.execute_reply": "2023-11-24T09:02:39.939826Z",
     "shell.execute_reply.started": "2023-11-24T09:02:39.066395Z"
    }
   },
   "outputs": [
    {
     "data": {
      "text/html": [
       "<div>\n",
       "<style scoped>\n",
       "    .dataframe tbody tr th:only-of-type {\n",
       "        vertical-align: middle;\n",
       "    }\n",
       "\n",
       "    .dataframe tbody tr th {\n",
       "        vertical-align: top;\n",
       "    }\n",
       "\n",
       "    .dataframe thead th {\n",
       "        text-align: right;\n",
       "    }\n",
       "</style>\n",
       "<table border=\"1\" class=\"dataframe\">\n",
       "  <thead>\n",
       "    <tr style=\"text-align: right;\">\n",
       "      <th></th>\n",
       "      <th>rn</th>\n",
       "    </tr>\n",
       "    <tr>\n",
       "      <th>id</th>\n",
       "      <th></th>\n",
       "    </tr>\n",
       "  </thead>\n",
       "  <tbody>\n",
       "    <tr>\n",
       "      <th>0</th>\n",
       "      <td>10</td>\n",
       "    </tr>\n",
       "    <tr>\n",
       "      <th>1</th>\n",
       "      <td>14</td>\n",
       "    </tr>\n",
       "    <tr>\n",
       "      <th>2</th>\n",
       "      <td>3</td>\n",
       "    </tr>\n",
       "    <tr>\n",
       "      <th>3</th>\n",
       "      <td>15</td>\n",
       "    </tr>\n",
       "    <tr>\n",
       "      <th>4</th>\n",
       "      <td>1</td>\n",
       "    </tr>\n",
       "    <tr>\n",
       "      <th>...</th>\n",
       "      <td>...</td>\n",
       "    </tr>\n",
       "    <tr>\n",
       "      <th>2999995</th>\n",
       "      <td>11</td>\n",
       "    </tr>\n",
       "    <tr>\n",
       "      <th>2999996</th>\n",
       "      <td>13</td>\n",
       "    </tr>\n",
       "    <tr>\n",
       "      <th>2999997</th>\n",
       "      <td>10</td>\n",
       "    </tr>\n",
       "    <tr>\n",
       "      <th>2999998</th>\n",
       "      <td>5</td>\n",
       "    </tr>\n",
       "    <tr>\n",
       "      <th>2999999</th>\n",
       "      <td>12</td>\n",
       "    </tr>\n",
       "  </tbody>\n",
       "</table>\n",
       "<p>3000000 rows × 1 columns</p>\n",
       "</div>"
      ],
      "text/plain": [
       "         rn\n",
       "id         \n",
       "0        10\n",
       "1        14\n",
       "2         3\n",
       "3        15\n",
       "4         1\n",
       "...      ..\n",
       "2999995  11\n",
       "2999996  13\n",
       "2999997  10\n",
       "2999998   5\n",
       "2999999  12\n",
       "\n",
       "[3000000 rows x 1 columns]"
      ]
     },
     "execution_count": 9,
     "metadata": {},
     "output_type": "execute_result"
    }
   ],
   "source": [
    "# Выделение максимального номера кредитного продукта для каждого клиента\n",
    "rn_df = df[['id', 'rn']].groupby(['id']).agg(func=max)\n",
    "rn_df"
   ]
  },
  {
   "cell_type": "code",
   "execution_count": 10,
   "metadata": {
    "execution": {
     "iopub.execute_input": "2023-11-24T09:02:42.170097Z",
     "iopub.status.busy": "2023-11-24T09:02:42.169757Z",
     "iopub.status.idle": "2023-11-24T09:02:42.950942Z",
     "shell.execute_reply": "2023-11-24T09:02:42.949544Z",
     "shell.execute_reply.started": "2023-11-24T09:02:42.170070Z"
    }
   },
   "outputs": [
    {
     "data": {
      "text/html": [
       "<div>\n",
       "<style scoped>\n",
       "    .dataframe tbody tr th:only-of-type {\n",
       "        vertical-align: middle;\n",
       "    }\n",
       "\n",
       "    .dataframe tbody tr th {\n",
       "        vertical-align: top;\n",
       "    }\n",
       "\n",
       "    .dataframe thead th {\n",
       "        text-align: right;\n",
       "    }\n",
       "</style>\n",
       "<table border=\"1\" class=\"dataframe\">\n",
       "  <thead>\n",
       "    <tr style=\"text-align: right;\">\n",
       "      <th></th>\n",
       "      <th>pre_since_opened_0</th>\n",
       "      <th>pre_since_opened_1</th>\n",
       "      <th>pre_since_opened_2</th>\n",
       "      <th>pre_since_opened_3</th>\n",
       "      <th>pre_since_opened_4</th>\n",
       "      <th>pre_since_opened_5</th>\n",
       "      <th>pre_since_opened_6</th>\n",
       "      <th>pre_since_opened_7</th>\n",
       "      <th>pre_since_opened_8</th>\n",
       "      <th>pre_since_opened_9</th>\n",
       "      <th>...</th>\n",
       "      <th>enc_loans_credit_type_7</th>\n",
       "      <th>enc_loans_account_cur_0</th>\n",
       "      <th>enc_loans_account_cur_1</th>\n",
       "      <th>enc_loans_account_cur_2</th>\n",
       "      <th>enc_loans_account_cur_3</th>\n",
       "      <th>pclose_flag_0</th>\n",
       "      <th>pclose_flag_1</th>\n",
       "      <th>fclose_flag_0</th>\n",
       "      <th>fclose_flag_1</th>\n",
       "      <th>rn</th>\n",
       "    </tr>\n",
       "    <tr>\n",
       "      <th>id</th>\n",
       "      <th></th>\n",
       "      <th></th>\n",
       "      <th></th>\n",
       "      <th></th>\n",
       "      <th></th>\n",
       "      <th></th>\n",
       "      <th></th>\n",
       "      <th></th>\n",
       "      <th></th>\n",
       "      <th></th>\n",
       "      <th></th>\n",
       "      <th></th>\n",
       "      <th></th>\n",
       "      <th></th>\n",
       "      <th></th>\n",
       "      <th></th>\n",
       "      <th></th>\n",
       "      <th></th>\n",
       "      <th></th>\n",
       "      <th></th>\n",
       "      <th></th>\n",
       "    </tr>\n",
       "  </thead>\n",
       "  <tbody>\n",
       "    <tr>\n",
       "      <th>0</th>\n",
       "      <td>0</td>\n",
       "      <td>1</td>\n",
       "      <td>1</td>\n",
       "      <td>1</td>\n",
       "      <td>1</td>\n",
       "      <td>2</td>\n",
       "      <td>0</td>\n",
       "      <td>1</td>\n",
       "      <td>0</td>\n",
       "      <td>0</td>\n",
       "      <td>...</td>\n",
       "      <td>0</td>\n",
       "      <td>0</td>\n",
       "      <td>10</td>\n",
       "      <td>0</td>\n",
       "      <td>0</td>\n",
       "      <td>9</td>\n",
       "      <td>1</td>\n",
       "      <td>8</td>\n",
       "      <td>2</td>\n",
       "      <td>10</td>\n",
       "    </tr>\n",
       "    <tr>\n",
       "      <th>1</th>\n",
       "      <td>0</td>\n",
       "      <td>0</td>\n",
       "      <td>1</td>\n",
       "      <td>0</td>\n",
       "      <td>0</td>\n",
       "      <td>0</td>\n",
       "      <td>0</td>\n",
       "      <td>1</td>\n",
       "      <td>2</td>\n",
       "      <td>0</td>\n",
       "      <td>...</td>\n",
       "      <td>0</td>\n",
       "      <td>0</td>\n",
       "      <td>14</td>\n",
       "      <td>0</td>\n",
       "      <td>0</td>\n",
       "      <td>13</td>\n",
       "      <td>1</td>\n",
       "      <td>12</td>\n",
       "      <td>2</td>\n",
       "      <td>14</td>\n",
       "    </tr>\n",
       "    <tr>\n",
       "      <th>2</th>\n",
       "      <td>1</td>\n",
       "      <td>0</td>\n",
       "      <td>0</td>\n",
       "      <td>0</td>\n",
       "      <td>0</td>\n",
       "      <td>0</td>\n",
       "      <td>0</td>\n",
       "      <td>0</td>\n",
       "      <td>0</td>\n",
       "      <td>0</td>\n",
       "      <td>...</td>\n",
       "      <td>0</td>\n",
       "      <td>0</td>\n",
       "      <td>3</td>\n",
       "      <td>0</td>\n",
       "      <td>0</td>\n",
       "      <td>1</td>\n",
       "      <td>2</td>\n",
       "      <td>1</td>\n",
       "      <td>2</td>\n",
       "      <td>3</td>\n",
       "    </tr>\n",
       "    <tr>\n",
       "      <th>3</th>\n",
       "      <td>0</td>\n",
       "      <td>3</td>\n",
       "      <td>1</td>\n",
       "      <td>0</td>\n",
       "      <td>2</td>\n",
       "      <td>1</td>\n",
       "      <td>3</td>\n",
       "      <td>0</td>\n",
       "      <td>0</td>\n",
       "      <td>0</td>\n",
       "      <td>...</td>\n",
       "      <td>0</td>\n",
       "      <td>0</td>\n",
       "      <td>15</td>\n",
       "      <td>0</td>\n",
       "      <td>0</td>\n",
       "      <td>10</td>\n",
       "      <td>5</td>\n",
       "      <td>9</td>\n",
       "      <td>6</td>\n",
       "      <td>15</td>\n",
       "    </tr>\n",
       "    <tr>\n",
       "      <th>4</th>\n",
       "      <td>0</td>\n",
       "      <td>0</td>\n",
       "      <td>0</td>\n",
       "      <td>0</td>\n",
       "      <td>0</td>\n",
       "      <td>0</td>\n",
       "      <td>0</td>\n",
       "      <td>0</td>\n",
       "      <td>0</td>\n",
       "      <td>0</td>\n",
       "      <td>...</td>\n",
       "      <td>0</td>\n",
       "      <td>0</td>\n",
       "      <td>1</td>\n",
       "      <td>0</td>\n",
       "      <td>0</td>\n",
       "      <td>0</td>\n",
       "      <td>1</td>\n",
       "      <td>0</td>\n",
       "      <td>1</td>\n",
       "      <td>1</td>\n",
       "    </tr>\n",
       "  </tbody>\n",
       "</table>\n",
       "<p>5 rows × 420 columns</p>\n",
       "</div>"
      ],
      "text/plain": [
       "    pre_since_opened_0  pre_since_opened_1  pre_since_opened_2  \\\n",
       "id                                                               \n",
       "0                    0                   1                   1   \n",
       "1                    0                   0                   1   \n",
       "2                    1                   0                   0   \n",
       "3                    0                   3                   1   \n",
       "4                    0                   0                   0   \n",
       "\n",
       "    pre_since_opened_3  pre_since_opened_4  pre_since_opened_5  \\\n",
       "id                                                               \n",
       "0                    1                   1                   2   \n",
       "1                    0                   0                   0   \n",
       "2                    0                   0                   0   \n",
       "3                    0                   2                   1   \n",
       "4                    0                   0                   0   \n",
       "\n",
       "    pre_since_opened_6  pre_since_opened_7  pre_since_opened_8  \\\n",
       "id                                                               \n",
       "0                    0                   1                   0   \n",
       "1                    0                   1                   2   \n",
       "2                    0                   0                   0   \n",
       "3                    3                   0                   0   \n",
       "4                    0                   0                   0   \n",
       "\n",
       "    pre_since_opened_9  ...  enc_loans_credit_type_7  enc_loans_account_cur_0  \\\n",
       "id                      ...                                                     \n",
       "0                    0  ...                        0                        0   \n",
       "1                    0  ...                        0                        0   \n",
       "2                    0  ...                        0                        0   \n",
       "3                    0  ...                        0                        0   \n",
       "4                    0  ...                        0                        0   \n",
       "\n",
       "    enc_loans_account_cur_1  enc_loans_account_cur_2  enc_loans_account_cur_3  \\\n",
       "id                                                                              \n",
       "0                        10                        0                        0   \n",
       "1                        14                        0                        0   \n",
       "2                         3                        0                        0   \n",
       "3                        15                        0                        0   \n",
       "4                         1                        0                        0   \n",
       "\n",
       "    pclose_flag_0  pclose_flag_1  fclose_flag_0  fclose_flag_1  rn  \n",
       "id                                                                  \n",
       "0               9              1              8              2  10  \n",
       "1              13              1             12              2  14  \n",
       "2               1              2              1              2   3  \n",
       "3              10              5              9              6  15  \n",
       "4               0              1              0              1   1  \n",
       "\n",
       "[5 rows x 420 columns]"
      ]
     },
     "execution_count": 10,
     "metadata": {},
     "output_type": "execute_result"
    }
   ],
   "source": [
    "# Добавление максимального номера кредитного продукта для каждого клиента в датасет\n",
    "df = data_df.merge(rn_df, left_on='id', right_on='id', how='inner')\n",
    "df.head()"
   ]
  },
  {
   "cell_type": "markdown",
   "metadata": {},
   "source": [
    "### 2.2.3. Добавление целевой переменной в датасет:"
   ]
  },
  {
   "cell_type": "code",
   "execution_count": 11,
   "metadata": {
    "execution": {
     "iopub.execute_input": "2023-11-24T09:02:45.294606Z",
     "iopub.status.busy": "2023-11-24T09:02:45.294214Z",
     "iopub.status.idle": "2023-11-24T09:02:45.842199Z",
     "shell.execute_reply": "2023-11-24T09:02:45.840679Z",
     "shell.execute_reply.started": "2023-11-24T09:02:45.294579Z"
    }
   },
   "outputs": [
    {
     "data": {
      "text/html": [
       "<div>\n",
       "<style scoped>\n",
       "    .dataframe tbody tr th:only-of-type {\n",
       "        vertical-align: middle;\n",
       "    }\n",
       "\n",
       "    .dataframe tbody tr th {\n",
       "        vertical-align: top;\n",
       "    }\n",
       "\n",
       "    .dataframe thead th {\n",
       "        text-align: right;\n",
       "    }\n",
       "</style>\n",
       "<table border=\"1\" class=\"dataframe\">\n",
       "  <thead>\n",
       "    <tr style=\"text-align: right;\">\n",
       "      <th></th>\n",
       "      <th>id</th>\n",
       "      <th>flag</th>\n",
       "    </tr>\n",
       "  </thead>\n",
       "  <tbody>\n",
       "    <tr>\n",
       "      <th>0</th>\n",
       "      <td>0</td>\n",
       "      <td>0</td>\n",
       "    </tr>\n",
       "    <tr>\n",
       "      <th>1</th>\n",
       "      <td>1</td>\n",
       "      <td>0</td>\n",
       "    </tr>\n",
       "    <tr>\n",
       "      <th>2</th>\n",
       "      <td>2</td>\n",
       "      <td>0</td>\n",
       "    </tr>\n",
       "    <tr>\n",
       "      <th>3</th>\n",
       "      <td>3</td>\n",
       "      <td>0</td>\n",
       "    </tr>\n",
       "    <tr>\n",
       "      <th>4</th>\n",
       "      <td>4</td>\n",
       "      <td>0</td>\n",
       "    </tr>\n",
       "  </tbody>\n",
       "</table>\n",
       "</div>"
      ],
      "text/plain": [
       "   id  flag\n",
       "0   0     0\n",
       "1   1     0\n",
       "2   2     0\n",
       "3   3     0\n",
       "4   4     0"
      ]
     },
     "execution_count": 11,
     "metadata": {},
     "output_type": "execute_result"
    }
   ],
   "source": [
    "# Чтение из файла значений целевой переменной\n",
    "target = pd.read_csv('/kaggle/input/target/train_target.csv')\n",
    "target.head()"
   ]
  },
  {
   "cell_type": "code",
   "execution_count": 12,
   "metadata": {
    "execution": {
     "iopub.execute_input": "2023-11-24T09:02:47.829038Z",
     "iopub.status.busy": "2023-11-24T09:02:47.828619Z",
     "iopub.status.idle": "2023-11-24T09:02:47.849370Z",
     "shell.execute_reply": "2023-11-24T09:02:47.848247Z",
     "shell.execute_reply.started": "2023-11-24T09:02:47.829007Z"
    }
   },
   "outputs": [
    {
     "name": "stdout",
     "output_type": "stream",
     "text": [
      "<class 'pandas.core.frame.DataFrame'>\n",
      "RangeIndex: 3000000 entries, 0 to 2999999\n",
      "Data columns (total 2 columns):\n",
      " #   Column  Dtype\n",
      "---  ------  -----\n",
      " 0   id      int64\n",
      " 1   flag    int8 \n",
      "dtypes: int64(1), int8(1)\n",
      "memory usage: 25.7 MB\n"
     ]
    }
   ],
   "source": [
    "# Преобразование типа целевой переменной для сокращения используемой памяти\n",
    "target['flag'] = target['flag'].astype('int8')\n",
    "target.info()"
   ]
  },
  {
   "cell_type": "code",
   "execution_count": 13,
   "metadata": {
    "execution": {
     "iopub.execute_input": "2023-11-24T09:02:49.937335Z",
     "iopub.status.busy": "2023-11-24T09:02:49.936871Z",
     "iopub.status.idle": "2023-11-24T09:02:51.368563Z",
     "shell.execute_reply": "2023-11-24T09:02:51.367293Z",
     "shell.execute_reply.started": "2023-11-24T09:02:49.937299Z"
    }
   },
   "outputs": [
    {
     "data": {
      "text/html": [
       "<div>\n",
       "<style scoped>\n",
       "    .dataframe tbody tr th:only-of-type {\n",
       "        vertical-align: middle;\n",
       "    }\n",
       "\n",
       "    .dataframe tbody tr th {\n",
       "        vertical-align: top;\n",
       "    }\n",
       "\n",
       "    .dataframe thead th {\n",
       "        text-align: right;\n",
       "    }\n",
       "</style>\n",
       "<table border=\"1\" class=\"dataframe\">\n",
       "  <thead>\n",
       "    <tr style=\"text-align: right;\">\n",
       "      <th></th>\n",
       "      <th>id</th>\n",
       "      <th>pre_since_opened_0</th>\n",
       "      <th>pre_since_opened_1</th>\n",
       "      <th>pre_since_opened_2</th>\n",
       "      <th>pre_since_opened_3</th>\n",
       "      <th>pre_since_opened_4</th>\n",
       "      <th>pre_since_opened_5</th>\n",
       "      <th>pre_since_opened_6</th>\n",
       "      <th>pre_since_opened_7</th>\n",
       "      <th>pre_since_opened_8</th>\n",
       "      <th>...</th>\n",
       "      <th>enc_loans_account_cur_0</th>\n",
       "      <th>enc_loans_account_cur_1</th>\n",
       "      <th>enc_loans_account_cur_2</th>\n",
       "      <th>enc_loans_account_cur_3</th>\n",
       "      <th>pclose_flag_0</th>\n",
       "      <th>pclose_flag_1</th>\n",
       "      <th>fclose_flag_0</th>\n",
       "      <th>fclose_flag_1</th>\n",
       "      <th>rn</th>\n",
       "      <th>flag</th>\n",
       "    </tr>\n",
       "  </thead>\n",
       "  <tbody>\n",
       "    <tr>\n",
       "      <th>0</th>\n",
       "      <td>0</td>\n",
       "      <td>0</td>\n",
       "      <td>1</td>\n",
       "      <td>1</td>\n",
       "      <td>1</td>\n",
       "      <td>1</td>\n",
       "      <td>2</td>\n",
       "      <td>0</td>\n",
       "      <td>1</td>\n",
       "      <td>0</td>\n",
       "      <td>...</td>\n",
       "      <td>0</td>\n",
       "      <td>10</td>\n",
       "      <td>0</td>\n",
       "      <td>0</td>\n",
       "      <td>9</td>\n",
       "      <td>1</td>\n",
       "      <td>8</td>\n",
       "      <td>2</td>\n",
       "      <td>10</td>\n",
       "      <td>0</td>\n",
       "    </tr>\n",
       "    <tr>\n",
       "      <th>1</th>\n",
       "      <td>1</td>\n",
       "      <td>0</td>\n",
       "      <td>0</td>\n",
       "      <td>1</td>\n",
       "      <td>0</td>\n",
       "      <td>0</td>\n",
       "      <td>0</td>\n",
       "      <td>0</td>\n",
       "      <td>1</td>\n",
       "      <td>2</td>\n",
       "      <td>...</td>\n",
       "      <td>0</td>\n",
       "      <td>14</td>\n",
       "      <td>0</td>\n",
       "      <td>0</td>\n",
       "      <td>13</td>\n",
       "      <td>1</td>\n",
       "      <td>12</td>\n",
       "      <td>2</td>\n",
       "      <td>14</td>\n",
       "      <td>0</td>\n",
       "    </tr>\n",
       "    <tr>\n",
       "      <th>2</th>\n",
       "      <td>2</td>\n",
       "      <td>1</td>\n",
       "      <td>0</td>\n",
       "      <td>0</td>\n",
       "      <td>0</td>\n",
       "      <td>0</td>\n",
       "      <td>0</td>\n",
       "      <td>0</td>\n",
       "      <td>0</td>\n",
       "      <td>0</td>\n",
       "      <td>...</td>\n",
       "      <td>0</td>\n",
       "      <td>3</td>\n",
       "      <td>0</td>\n",
       "      <td>0</td>\n",
       "      <td>1</td>\n",
       "      <td>2</td>\n",
       "      <td>1</td>\n",
       "      <td>2</td>\n",
       "      <td>3</td>\n",
       "      <td>0</td>\n",
       "    </tr>\n",
       "    <tr>\n",
       "      <th>3</th>\n",
       "      <td>3</td>\n",
       "      <td>0</td>\n",
       "      <td>3</td>\n",
       "      <td>1</td>\n",
       "      <td>0</td>\n",
       "      <td>2</td>\n",
       "      <td>1</td>\n",
       "      <td>3</td>\n",
       "      <td>0</td>\n",
       "      <td>0</td>\n",
       "      <td>...</td>\n",
       "      <td>0</td>\n",
       "      <td>15</td>\n",
       "      <td>0</td>\n",
       "      <td>0</td>\n",
       "      <td>10</td>\n",
       "      <td>5</td>\n",
       "      <td>9</td>\n",
       "      <td>6</td>\n",
       "      <td>15</td>\n",
       "      <td>0</td>\n",
       "    </tr>\n",
       "    <tr>\n",
       "      <th>4</th>\n",
       "      <td>4</td>\n",
       "      <td>0</td>\n",
       "      <td>0</td>\n",
       "      <td>0</td>\n",
       "      <td>0</td>\n",
       "      <td>0</td>\n",
       "      <td>0</td>\n",
       "      <td>0</td>\n",
       "      <td>0</td>\n",
       "      <td>0</td>\n",
       "      <td>...</td>\n",
       "      <td>0</td>\n",
       "      <td>1</td>\n",
       "      <td>0</td>\n",
       "      <td>0</td>\n",
       "      <td>0</td>\n",
       "      <td>1</td>\n",
       "      <td>0</td>\n",
       "      <td>1</td>\n",
       "      <td>1</td>\n",
       "      <td>0</td>\n",
       "    </tr>\n",
       "  </tbody>\n",
       "</table>\n",
       "<p>5 rows × 422 columns</p>\n",
       "</div>"
      ],
      "text/plain": [
       "   id  pre_since_opened_0  pre_since_opened_1  pre_since_opened_2  \\\n",
       "0   0                   0                   1                   1   \n",
       "1   1                   0                   0                   1   \n",
       "2   2                   1                   0                   0   \n",
       "3   3                   0                   3                   1   \n",
       "4   4                   0                   0                   0   \n",
       "\n",
       "   pre_since_opened_3  pre_since_opened_4  pre_since_opened_5  \\\n",
       "0                   1                   1                   2   \n",
       "1                   0                   0                   0   \n",
       "2                   0                   0                   0   \n",
       "3                   0                   2                   1   \n",
       "4                   0                   0                   0   \n",
       "\n",
       "   pre_since_opened_6  pre_since_opened_7  pre_since_opened_8  ...  \\\n",
       "0                   0                   1                   0  ...   \n",
       "1                   0                   1                   2  ...   \n",
       "2                   0                   0                   0  ...   \n",
       "3                   3                   0                   0  ...   \n",
       "4                   0                   0                   0  ...   \n",
       "\n",
       "   enc_loans_account_cur_0  enc_loans_account_cur_1  enc_loans_account_cur_2  \\\n",
       "0                        0                       10                        0   \n",
       "1                        0                       14                        0   \n",
       "2                        0                        3                        0   \n",
       "3                        0                       15                        0   \n",
       "4                        0                        1                        0   \n",
       "\n",
       "   enc_loans_account_cur_3  pclose_flag_0  pclose_flag_1  fclose_flag_0  \\\n",
       "0                        0              9              1              8   \n",
       "1                        0             13              1             12   \n",
       "2                        0              1              2              1   \n",
       "3                        0             10              5              9   \n",
       "4                        0              0              1              0   \n",
       "\n",
       "   fclose_flag_1  rn  flag  \n",
       "0              2  10     0  \n",
       "1              2  14     0  \n",
       "2              2   3     0  \n",
       "3              6  15     0  \n",
       "4              1   1     0  \n",
       "\n",
       "[5 rows x 422 columns]"
      ]
     },
     "execution_count": 13,
     "metadata": {},
     "output_type": "execute_result"
    }
   ],
   "source": [
    "# Добавление целевой переменной в датасет\n",
    "df = df.merge(target, left_on='id', right_on='id', how='inner')\n",
    "df.head()"
   ]
  },
  {
   "cell_type": "code",
   "execution_count": 14,
   "metadata": {
    "execution": {
     "iopub.execute_input": "2023-11-24T09:02:53.930657Z",
     "iopub.status.busy": "2023-11-24T09:02:53.929134Z",
     "iopub.status.idle": "2023-11-24T09:02:53.961391Z",
     "shell.execute_reply": "2023-11-24T09:02:53.959862Z",
     "shell.execute_reply.started": "2023-11-24T09:02:53.930594Z"
    }
   },
   "outputs": [
    {
     "data": {
      "text/plain": [
       "flag\n",
       "0    2893558\n",
       "1     106442\n",
       "Name: count, dtype: int64"
      ]
     },
     "execution_count": 14,
     "metadata": {},
     "output_type": "execute_result"
    }
   ],
   "source": [
    "# Дисбаланс классов итогового датасета\n",
    "df['flag'].value_counts()"
   ]
  },
  {
   "cell_type": "markdown",
   "metadata": {},
   "source": [
    "### 2.2.4. Сохранение финального датасета:"
   ]
  },
  {
   "cell_type": "code",
   "execution_count": 15,
   "metadata": {
    "execution": {
     "iopub.execute_input": "2023-11-24T09:02:56.845124Z",
     "iopub.status.busy": "2023-11-24T09:02:56.844732Z",
     "iopub.status.idle": "2023-11-24T09:02:58.084924Z",
     "shell.execute_reply": "2023-11-24T09:02:58.083853Z",
     "shell.execute_reply.started": "2023-11-24T09:02:56.845088Z"
    }
   },
   "outputs": [],
   "source": [
    "# Сохранение полученного датасета в pickle-файл\n",
    "filename = 'df_final.pickle'\n",
    "\n",
    "with open(filename, 'wb') as file:\n",
    "    pickle.dump(df, file)"
   ]
  },
  {
   "cell_type": "code",
   "execution_count": 15,
   "metadata": {
    "execution": {
     "iopub.execute_input": "2023-11-24T09:57:03.754610Z",
     "iopub.status.busy": "2023-11-24T09:57:03.754167Z",
     "iopub.status.idle": "2023-11-24T09:57:11.466751Z",
     "shell.execute_reply": "2023-11-24T09:57:11.464890Z",
     "shell.execute_reply.started": "2023-11-24T09:57:03.754581Z"
    }
   },
   "outputs": [
    {
     "data": {
      "text/html": [
       "<div>\n",
       "<style scoped>\n",
       "    .dataframe tbody tr th:only-of-type {\n",
       "        vertical-align: middle;\n",
       "    }\n",
       "\n",
       "    .dataframe tbody tr th {\n",
       "        vertical-align: top;\n",
       "    }\n",
       "\n",
       "    .dataframe thead th {\n",
       "        text-align: right;\n",
       "    }\n",
       "</style>\n",
       "<table border=\"1\" class=\"dataframe\">\n",
       "  <thead>\n",
       "    <tr style=\"text-align: right;\">\n",
       "      <th></th>\n",
       "      <th>id</th>\n",
       "      <th>pre_since_opened_0</th>\n",
       "      <th>pre_since_opened_1</th>\n",
       "      <th>pre_since_opened_2</th>\n",
       "      <th>pre_since_opened_3</th>\n",
       "      <th>pre_since_opened_4</th>\n",
       "      <th>pre_since_opened_5</th>\n",
       "      <th>pre_since_opened_6</th>\n",
       "      <th>pre_since_opened_7</th>\n",
       "      <th>pre_since_opened_8</th>\n",
       "      <th>...</th>\n",
       "      <th>enc_loans_account_cur_0</th>\n",
       "      <th>enc_loans_account_cur_1</th>\n",
       "      <th>enc_loans_account_cur_2</th>\n",
       "      <th>enc_loans_account_cur_3</th>\n",
       "      <th>pclose_flag_0</th>\n",
       "      <th>pclose_flag_1</th>\n",
       "      <th>fclose_flag_0</th>\n",
       "      <th>fclose_flag_1</th>\n",
       "      <th>rn</th>\n",
       "      <th>flag</th>\n",
       "    </tr>\n",
       "  </thead>\n",
       "  <tbody>\n",
       "    <tr>\n",
       "      <th>0</th>\n",
       "      <td>0</td>\n",
       "      <td>0</td>\n",
       "      <td>1</td>\n",
       "      <td>1</td>\n",
       "      <td>1</td>\n",
       "      <td>1</td>\n",
       "      <td>2</td>\n",
       "      <td>0</td>\n",
       "      <td>1</td>\n",
       "      <td>0</td>\n",
       "      <td>...</td>\n",
       "      <td>0</td>\n",
       "      <td>10</td>\n",
       "      <td>0</td>\n",
       "      <td>0</td>\n",
       "      <td>9</td>\n",
       "      <td>1</td>\n",
       "      <td>8</td>\n",
       "      <td>2</td>\n",
       "      <td>10</td>\n",
       "      <td>0</td>\n",
       "    </tr>\n",
       "    <tr>\n",
       "      <th>1</th>\n",
       "      <td>1</td>\n",
       "      <td>0</td>\n",
       "      <td>0</td>\n",
       "      <td>1</td>\n",
       "      <td>0</td>\n",
       "      <td>0</td>\n",
       "      <td>0</td>\n",
       "      <td>0</td>\n",
       "      <td>1</td>\n",
       "      <td>2</td>\n",
       "      <td>...</td>\n",
       "      <td>0</td>\n",
       "      <td>14</td>\n",
       "      <td>0</td>\n",
       "      <td>0</td>\n",
       "      <td>13</td>\n",
       "      <td>1</td>\n",
       "      <td>12</td>\n",
       "      <td>2</td>\n",
       "      <td>14</td>\n",
       "      <td>0</td>\n",
       "    </tr>\n",
       "    <tr>\n",
       "      <th>2</th>\n",
       "      <td>2</td>\n",
       "      <td>1</td>\n",
       "      <td>0</td>\n",
       "      <td>0</td>\n",
       "      <td>0</td>\n",
       "      <td>0</td>\n",
       "      <td>0</td>\n",
       "      <td>0</td>\n",
       "      <td>0</td>\n",
       "      <td>0</td>\n",
       "      <td>...</td>\n",
       "      <td>0</td>\n",
       "      <td>3</td>\n",
       "      <td>0</td>\n",
       "      <td>0</td>\n",
       "      <td>1</td>\n",
       "      <td>2</td>\n",
       "      <td>1</td>\n",
       "      <td>2</td>\n",
       "      <td>3</td>\n",
       "      <td>0</td>\n",
       "    </tr>\n",
       "    <tr>\n",
       "      <th>3</th>\n",
       "      <td>3</td>\n",
       "      <td>0</td>\n",
       "      <td>3</td>\n",
       "      <td>1</td>\n",
       "      <td>0</td>\n",
       "      <td>2</td>\n",
       "      <td>1</td>\n",
       "      <td>3</td>\n",
       "      <td>0</td>\n",
       "      <td>0</td>\n",
       "      <td>...</td>\n",
       "      <td>0</td>\n",
       "      <td>15</td>\n",
       "      <td>0</td>\n",
       "      <td>0</td>\n",
       "      <td>10</td>\n",
       "      <td>5</td>\n",
       "      <td>9</td>\n",
       "      <td>6</td>\n",
       "      <td>15</td>\n",
       "      <td>0</td>\n",
       "    </tr>\n",
       "    <tr>\n",
       "      <th>4</th>\n",
       "      <td>4</td>\n",
       "      <td>0</td>\n",
       "      <td>0</td>\n",
       "      <td>0</td>\n",
       "      <td>0</td>\n",
       "      <td>0</td>\n",
       "      <td>0</td>\n",
       "      <td>0</td>\n",
       "      <td>0</td>\n",
       "      <td>0</td>\n",
       "      <td>...</td>\n",
       "      <td>0</td>\n",
       "      <td>1</td>\n",
       "      <td>0</td>\n",
       "      <td>0</td>\n",
       "      <td>0</td>\n",
       "      <td>1</td>\n",
       "      <td>0</td>\n",
       "      <td>1</td>\n",
       "      <td>1</td>\n",
       "      <td>0</td>\n",
       "    </tr>\n",
       "  </tbody>\n",
       "</table>\n",
       "<p>5 rows × 422 columns</p>\n",
       "</div>"
      ],
      "text/plain": [
       "   id  pre_since_opened_0  pre_since_opened_1  pre_since_opened_2  \\\n",
       "0   0                   0                   1                   1   \n",
       "1   1                   0                   0                   1   \n",
       "2   2                   1                   0                   0   \n",
       "3   3                   0                   3                   1   \n",
       "4   4                   0                   0                   0   \n",
       "\n",
       "   pre_since_opened_3  pre_since_opened_4  pre_since_opened_5  \\\n",
       "0                   1                   1                   2   \n",
       "1                   0                   0                   0   \n",
       "2                   0                   0                   0   \n",
       "3                   0                   2                   1   \n",
       "4                   0                   0                   0   \n",
       "\n",
       "   pre_since_opened_6  pre_since_opened_7  pre_since_opened_8  ...  \\\n",
       "0                   0                   1                   0  ...   \n",
       "1                   0                   1                   2  ...   \n",
       "2                   0                   0                   0  ...   \n",
       "3                   3                   0                   0  ...   \n",
       "4                   0                   0                   0  ...   \n",
       "\n",
       "   enc_loans_account_cur_0  enc_loans_account_cur_1  enc_loans_account_cur_2  \\\n",
       "0                        0                       10                        0   \n",
       "1                        0                       14                        0   \n",
       "2                        0                        3                        0   \n",
       "3                        0                       15                        0   \n",
       "4                        0                        1                        0   \n",
       "\n",
       "   enc_loans_account_cur_3  pclose_flag_0  pclose_flag_1  fclose_flag_0  \\\n",
       "0                        0              9              1              8   \n",
       "1                        0             13              1             12   \n",
       "2                        0              1              2              1   \n",
       "3                        0             10              5              9   \n",
       "4                        0              0              1              0   \n",
       "\n",
       "   fclose_flag_1  rn  flag  \n",
       "0              2  10     0  \n",
       "1              2  14     0  \n",
       "2              2   3     0  \n",
       "3              6  15     0  \n",
       "4              1   1     0  \n",
       "\n",
       "[5 rows x 422 columns]"
      ]
     },
     "execution_count": 15,
     "metadata": {},
     "output_type": "execute_result"
    }
   ],
   "source": [
    "# Чтение всего датасета из pickle-файла\n",
    "df = pd.read_pickle('/kaggle/working/df_final.pickle')\n",
    "df.head()"
   ]
  },
  {
   "cell_type": "code",
   "execution_count": 24,
   "metadata": {
    "execution": {
     "iopub.execute_input": "2023-11-23T12:14:52.188858Z",
     "iopub.status.busy": "2023-11-23T12:14:52.188361Z",
     "iopub.status.idle": "2023-11-23T12:14:52.198421Z",
     "shell.execute_reply": "2023-11-23T12:14:52.197196Z",
     "shell.execute_reply.started": "2023-11-23T12:14:52.188825Z"
    }
   },
   "outputs": [
    {
     "data": {
      "text/plain": [
       "(3000000, 422)"
      ]
     },
     "execution_count": 24,
     "metadata": {},
     "output_type": "execute_result"
    }
   ],
   "source": [
    "# Размер финального датасета\n",
    "df.shape"
   ]
  },
  {
   "cell_type": "markdown",
   "metadata": {},
   "source": [
    "### 2.2.5. Разделение данных на train и test:"
   ]
  },
  {
   "cell_type": "code",
   "execution_count": 16,
   "metadata": {
    "execution": {
     "iopub.execute_input": "2023-11-24T09:57:15.857844Z",
     "iopub.status.busy": "2023-11-24T09:57:15.857440Z",
     "iopub.status.idle": "2023-11-24T09:57:21.956584Z",
     "shell.execute_reply": "2023-11-24T09:57:21.954895Z",
     "shell.execute_reply.started": "2023-11-24T09:57:15.857813Z"
    }
   },
   "outputs": [],
   "source": [
    "X = df.drop(['id', 'flag'], axis=1)\n",
    "y = df['flag']"
   ]
  },
  {
   "cell_type": "code",
   "execution_count": 17,
   "metadata": {
    "execution": {
     "iopub.execute_input": "2023-11-24T09:57:23.257170Z",
     "iopub.status.busy": "2023-11-24T09:57:23.256726Z",
     "iopub.status.idle": "2023-11-24T09:57:33.266601Z",
     "shell.execute_reply": "2023-11-24T09:57:33.265109Z",
     "shell.execute_reply.started": "2023-11-24T09:57:23.257136Z"
    }
   },
   "outputs": [],
   "source": [
    "X_train, X_test, y_train, y_test = train_test_split(X, y, test_size=0.2, random_state=1, stratify=df['flag'])"
   ]
  },
  {
   "cell_type": "code",
   "execution_count": 27,
   "metadata": {
    "execution": {
     "iopub.execute_input": "2023-11-23T12:15:25.969315Z",
     "iopub.status.busy": "2023-11-23T12:15:25.968057Z",
     "iopub.status.idle": "2023-11-23T12:15:25.975500Z",
     "shell.execute_reply": "2023-11-23T12:15:25.974255Z",
     "shell.execute_reply.started": "2023-11-23T12:15:25.969268Z"
    }
   },
   "outputs": [
    {
     "name": "stdout",
     "output_type": "stream",
     "text": [
      "X_train: (2400000, 420) | y_train: (2400000,)\n",
      "X_test: (600000, 420)   | y_test: (600000,)\n"
     ]
    }
   ],
   "source": [
    "print('X_train:', X_train.shape, '| y_train:', y_train.shape)\n",
    "print('X_test:', X_test.shape, '  | y_test:', y_test.shape)"
   ]
  },
  {
   "cell_type": "markdown",
   "metadata": {},
   "source": [
    "### 2.2.6. Нормализация данных:"
   ]
  },
  {
   "cell_type": "code",
   "execution_count": 18,
   "metadata": {
    "execution": {
     "iopub.execute_input": "2023-11-24T09:58:08.324957Z",
     "iopub.status.busy": "2023-11-24T09:58:08.324476Z",
     "iopub.status.idle": "2023-11-24T09:58:12.225860Z",
     "shell.execute_reply": "2023-11-24T09:58:12.223853Z",
     "shell.execute_reply.started": "2023-11-24T09:58:08.324923Z"
    }
   },
   "outputs": [
    {
     "data": {
      "text/html": [
       "<div>\n",
       "<style scoped>\n",
       "    .dataframe tbody tr th:only-of-type {\n",
       "        vertical-align: middle;\n",
       "    }\n",
       "\n",
       "    .dataframe tbody tr th {\n",
       "        vertical-align: top;\n",
       "    }\n",
       "\n",
       "    .dataframe thead th {\n",
       "        text-align: right;\n",
       "    }\n",
       "</style>\n",
       "<table border=\"1\" class=\"dataframe\">\n",
       "  <thead>\n",
       "    <tr style=\"text-align: right;\">\n",
       "      <th></th>\n",
       "      <th>pre_since_opened_0</th>\n",
       "      <th>pre_since_opened_1</th>\n",
       "      <th>pre_since_opened_2</th>\n",
       "      <th>pre_since_opened_3</th>\n",
       "      <th>pre_since_opened_4</th>\n",
       "      <th>pre_since_opened_5</th>\n",
       "      <th>pre_since_opened_6</th>\n",
       "      <th>pre_since_opened_7</th>\n",
       "      <th>pre_since_opened_8</th>\n",
       "      <th>pre_since_opened_9</th>\n",
       "      <th>...</th>\n",
       "      <th>enc_loans_credit_type_7</th>\n",
       "      <th>enc_loans_account_cur_0</th>\n",
       "      <th>enc_loans_account_cur_1</th>\n",
       "      <th>enc_loans_account_cur_2</th>\n",
       "      <th>enc_loans_account_cur_3</th>\n",
       "      <th>pclose_flag_0</th>\n",
       "      <th>pclose_flag_1</th>\n",
       "      <th>fclose_flag_0</th>\n",
       "      <th>fclose_flag_1</th>\n",
       "      <th>rn_std</th>\n",
       "    </tr>\n",
       "  </thead>\n",
       "  <tbody>\n",
       "    <tr>\n",
       "      <th>798317</th>\n",
       "      <td>0</td>\n",
       "      <td>1</td>\n",
       "      <td>3</td>\n",
       "      <td>0</td>\n",
       "      <td>1</td>\n",
       "      <td>0</td>\n",
       "      <td>0</td>\n",
       "      <td>0</td>\n",
       "      <td>0</td>\n",
       "      <td>0</td>\n",
       "      <td>...</td>\n",
       "      <td>0</td>\n",
       "      <td>0</td>\n",
       "      <td>7</td>\n",
       "      <td>0</td>\n",
       "      <td>0</td>\n",
       "      <td>7</td>\n",
       "      <td>0</td>\n",
       "      <td>5</td>\n",
       "      <td>2</td>\n",
       "      <td>-0.278351</td>\n",
       "    </tr>\n",
       "    <tr>\n",
       "      <th>75142</th>\n",
       "      <td>0</td>\n",
       "      <td>0</td>\n",
       "      <td>2</td>\n",
       "      <td>0</td>\n",
       "      <td>1</td>\n",
       "      <td>0</td>\n",
       "      <td>0</td>\n",
       "      <td>0</td>\n",
       "      <td>0</td>\n",
       "      <td>0</td>\n",
       "      <td>...</td>\n",
       "      <td>0</td>\n",
       "      <td>0</td>\n",
       "      <td>5</td>\n",
       "      <td>0</td>\n",
       "      <td>0</td>\n",
       "      <td>3</td>\n",
       "      <td>2</td>\n",
       "      <td>3</td>\n",
       "      <td>2</td>\n",
       "      <td>-0.602109</td>\n",
       "    </tr>\n",
       "    <tr>\n",
       "      <th>2808376</th>\n",
       "      <td>2</td>\n",
       "      <td>0</td>\n",
       "      <td>0</td>\n",
       "      <td>1</td>\n",
       "      <td>0</td>\n",
       "      <td>1</td>\n",
       "      <td>1</td>\n",
       "      <td>0</td>\n",
       "      <td>0</td>\n",
       "      <td>2</td>\n",
       "      <td>...</td>\n",
       "      <td>0</td>\n",
       "      <td>0</td>\n",
       "      <td>17</td>\n",
       "      <td>0</td>\n",
       "      <td>0</td>\n",
       "      <td>12</td>\n",
       "      <td>5</td>\n",
       "      <td>14</td>\n",
       "      <td>3</td>\n",
       "      <td>1.340442</td>\n",
       "    </tr>\n",
       "    <tr>\n",
       "      <th>2545795</th>\n",
       "      <td>0</td>\n",
       "      <td>0</td>\n",
       "      <td>2</td>\n",
       "      <td>0</td>\n",
       "      <td>0</td>\n",
       "      <td>1</td>\n",
       "      <td>0</td>\n",
       "      <td>1</td>\n",
       "      <td>1</td>\n",
       "      <td>0</td>\n",
       "      <td>...</td>\n",
       "      <td>0</td>\n",
       "      <td>0</td>\n",
       "      <td>6</td>\n",
       "      <td>0</td>\n",
       "      <td>0</td>\n",
       "      <td>6</td>\n",
       "      <td>0</td>\n",
       "      <td>5</td>\n",
       "      <td>1</td>\n",
       "      <td>-0.440230</td>\n",
       "    </tr>\n",
       "    <tr>\n",
       "      <th>1745858</th>\n",
       "      <td>2</td>\n",
       "      <td>0</td>\n",
       "      <td>0</td>\n",
       "      <td>0</td>\n",
       "      <td>0</td>\n",
       "      <td>0</td>\n",
       "      <td>0</td>\n",
       "      <td>0</td>\n",
       "      <td>0</td>\n",
       "      <td>0</td>\n",
       "      <td>...</td>\n",
       "      <td>0</td>\n",
       "      <td>0</td>\n",
       "      <td>3</td>\n",
       "      <td>0</td>\n",
       "      <td>0</td>\n",
       "      <td>1</td>\n",
       "      <td>2</td>\n",
       "      <td>1</td>\n",
       "      <td>2</td>\n",
       "      <td>-0.925868</td>\n",
       "    </tr>\n",
       "  </tbody>\n",
       "</table>\n",
       "<p>5 rows × 420 columns</p>\n",
       "</div>"
      ],
      "text/plain": [
       "         pre_since_opened_0  pre_since_opened_1  pre_since_opened_2  \\\n",
       "798317                    0                   1                   3   \n",
       "75142                     0                   0                   2   \n",
       "2808376                   2                   0                   0   \n",
       "2545795                   0                   0                   2   \n",
       "1745858                   2                   0                   0   \n",
       "\n",
       "         pre_since_opened_3  pre_since_opened_4  pre_since_opened_5  \\\n",
       "798317                    0                   1                   0   \n",
       "75142                     0                   1                   0   \n",
       "2808376                   1                   0                   1   \n",
       "2545795                   0                   0                   1   \n",
       "1745858                   0                   0                   0   \n",
       "\n",
       "         pre_since_opened_6  pre_since_opened_7  pre_since_opened_8  \\\n",
       "798317                    0                   0                   0   \n",
       "75142                     0                   0                   0   \n",
       "2808376                   1                   0                   0   \n",
       "2545795                   0                   1                   1   \n",
       "1745858                   0                   0                   0   \n",
       "\n",
       "         pre_since_opened_9  ...  enc_loans_credit_type_7  \\\n",
       "798317                    0  ...                        0   \n",
       "75142                     0  ...                        0   \n",
       "2808376                   2  ...                        0   \n",
       "2545795                   0  ...                        0   \n",
       "1745858                   0  ...                        0   \n",
       "\n",
       "         enc_loans_account_cur_0  enc_loans_account_cur_1  \\\n",
       "798317                         0                        7   \n",
       "75142                          0                        5   \n",
       "2808376                        0                       17   \n",
       "2545795                        0                        6   \n",
       "1745858                        0                        3   \n",
       "\n",
       "         enc_loans_account_cur_2  enc_loans_account_cur_3  pclose_flag_0  \\\n",
       "798317                         0                        0              7   \n",
       "75142                          0                        0              3   \n",
       "2808376                        0                        0             12   \n",
       "2545795                        0                        0              6   \n",
       "1745858                        0                        0              1   \n",
       "\n",
       "         pclose_flag_1  fclose_flag_0  fclose_flag_1    rn_std  \n",
       "798317               0              5              2 -0.278351  \n",
       "75142                2              3              2 -0.602109  \n",
       "2808376              5             14              3  1.340442  \n",
       "2545795              0              5              1 -0.440230  \n",
       "1745858              2              1              2 -0.925868  \n",
       "\n",
       "[5 rows x 420 columns]"
      ]
     },
     "execution_count": 18,
     "metadata": {},
     "output_type": "execute_result"
    }
   ],
   "source": [
    "# Нормализация тренировочных данных с помощью StandardScaler\n",
    "std_scaler = StandardScaler()\n",
    "std_scaler.fit(X_train[['rn']])\n",
    "std_scaled_train = std_scaler.transform(X_train[['rn']])\n",
    "\n",
    "X_train['rn_std'] = std_scaled_train\n",
    "X_train = X_train.drop('rn', axis=1)\n",
    "X_train.head()"
   ]
  },
  {
   "cell_type": "code",
   "execution_count": 19,
   "metadata": {
    "execution": {
     "iopub.execute_input": "2023-11-24T09:58:15.176833Z",
     "iopub.status.busy": "2023-11-24T09:58:15.176412Z",
     "iopub.status.idle": "2023-11-24T09:58:16.154617Z",
     "shell.execute_reply": "2023-11-24T09:58:16.152996Z",
     "shell.execute_reply.started": "2023-11-24T09:58:15.176803Z"
    }
   },
   "outputs": [
    {
     "data": {
      "text/html": [
       "<div>\n",
       "<style scoped>\n",
       "    .dataframe tbody tr th:only-of-type {\n",
       "        vertical-align: middle;\n",
       "    }\n",
       "\n",
       "    .dataframe tbody tr th {\n",
       "        vertical-align: top;\n",
       "    }\n",
       "\n",
       "    .dataframe thead th {\n",
       "        text-align: right;\n",
       "    }\n",
       "</style>\n",
       "<table border=\"1\" class=\"dataframe\">\n",
       "  <thead>\n",
       "    <tr style=\"text-align: right;\">\n",
       "      <th></th>\n",
       "      <th>pre_since_opened_0</th>\n",
       "      <th>pre_since_opened_1</th>\n",
       "      <th>pre_since_opened_2</th>\n",
       "      <th>pre_since_opened_3</th>\n",
       "      <th>pre_since_opened_4</th>\n",
       "      <th>pre_since_opened_5</th>\n",
       "      <th>pre_since_opened_6</th>\n",
       "      <th>pre_since_opened_7</th>\n",
       "      <th>pre_since_opened_8</th>\n",
       "      <th>pre_since_opened_9</th>\n",
       "      <th>...</th>\n",
       "      <th>enc_loans_credit_type_7</th>\n",
       "      <th>enc_loans_account_cur_0</th>\n",
       "      <th>enc_loans_account_cur_1</th>\n",
       "      <th>enc_loans_account_cur_2</th>\n",
       "      <th>enc_loans_account_cur_3</th>\n",
       "      <th>pclose_flag_0</th>\n",
       "      <th>pclose_flag_1</th>\n",
       "      <th>fclose_flag_0</th>\n",
       "      <th>fclose_flag_1</th>\n",
       "      <th>rn_std</th>\n",
       "    </tr>\n",
       "  </thead>\n",
       "  <tbody>\n",
       "    <tr>\n",
       "      <th>2407614</th>\n",
       "      <td>2</td>\n",
       "      <td>1</td>\n",
       "      <td>0</td>\n",
       "      <td>1</td>\n",
       "      <td>0</td>\n",
       "      <td>0</td>\n",
       "      <td>0</td>\n",
       "      <td>0</td>\n",
       "      <td>0</td>\n",
       "      <td>1</td>\n",
       "      <td>...</td>\n",
       "      <td>0</td>\n",
       "      <td>0</td>\n",
       "      <td>5</td>\n",
       "      <td>0</td>\n",
       "      <td>0</td>\n",
       "      <td>2</td>\n",
       "      <td>3</td>\n",
       "      <td>2</td>\n",
       "      <td>3</td>\n",
       "      <td>-0.602109</td>\n",
       "    </tr>\n",
       "    <tr>\n",
       "      <th>1687029</th>\n",
       "      <td>0</td>\n",
       "      <td>1</td>\n",
       "      <td>0</td>\n",
       "      <td>0</td>\n",
       "      <td>1</td>\n",
       "      <td>0</td>\n",
       "      <td>2</td>\n",
       "      <td>1</td>\n",
       "      <td>0</td>\n",
       "      <td>0</td>\n",
       "      <td>...</td>\n",
       "      <td>0</td>\n",
       "      <td>0</td>\n",
       "      <td>9</td>\n",
       "      <td>0</td>\n",
       "      <td>0</td>\n",
       "      <td>9</td>\n",
       "      <td>0</td>\n",
       "      <td>9</td>\n",
       "      <td>0</td>\n",
       "      <td>0.045408</td>\n",
       "    </tr>\n",
       "    <tr>\n",
       "      <th>1447093</th>\n",
       "      <td>0</td>\n",
       "      <td>2</td>\n",
       "      <td>7</td>\n",
       "      <td>1</td>\n",
       "      <td>0</td>\n",
       "      <td>0</td>\n",
       "      <td>3</td>\n",
       "      <td>3</td>\n",
       "      <td>0</td>\n",
       "      <td>2</td>\n",
       "      <td>...</td>\n",
       "      <td>1</td>\n",
       "      <td>0</td>\n",
       "      <td>24</td>\n",
       "      <td>0</td>\n",
       "      <td>0</td>\n",
       "      <td>19</td>\n",
       "      <td>5</td>\n",
       "      <td>21</td>\n",
       "      <td>3</td>\n",
       "      <td>2.473596</td>\n",
       "    </tr>\n",
       "    <tr>\n",
       "      <th>662319</th>\n",
       "      <td>0</td>\n",
       "      <td>0</td>\n",
       "      <td>1</td>\n",
       "      <td>0</td>\n",
       "      <td>0</td>\n",
       "      <td>0</td>\n",
       "      <td>0</td>\n",
       "      <td>0</td>\n",
       "      <td>0</td>\n",
       "      <td>0</td>\n",
       "      <td>...</td>\n",
       "      <td>0</td>\n",
       "      <td>0</td>\n",
       "      <td>1</td>\n",
       "      <td>0</td>\n",
       "      <td>0</td>\n",
       "      <td>1</td>\n",
       "      <td>0</td>\n",
       "      <td>1</td>\n",
       "      <td>0</td>\n",
       "      <td>-1.249626</td>\n",
       "    </tr>\n",
       "    <tr>\n",
       "      <th>110172</th>\n",
       "      <td>1</td>\n",
       "      <td>0</td>\n",
       "      <td>0</td>\n",
       "      <td>1</td>\n",
       "      <td>0</td>\n",
       "      <td>1</td>\n",
       "      <td>0</td>\n",
       "      <td>0</td>\n",
       "      <td>2</td>\n",
       "      <td>0</td>\n",
       "      <td>...</td>\n",
       "      <td>0</td>\n",
       "      <td>0</td>\n",
       "      <td>8</td>\n",
       "      <td>0</td>\n",
       "      <td>0</td>\n",
       "      <td>7</td>\n",
       "      <td>1</td>\n",
       "      <td>5</td>\n",
       "      <td>3</td>\n",
       "      <td>-0.116472</td>\n",
       "    </tr>\n",
       "  </tbody>\n",
       "</table>\n",
       "<p>5 rows × 420 columns</p>\n",
       "</div>"
      ],
      "text/plain": [
       "         pre_since_opened_0  pre_since_opened_1  pre_since_opened_2  \\\n",
       "2407614                   2                   1                   0   \n",
       "1687029                   0                   1                   0   \n",
       "1447093                   0                   2                   7   \n",
       "662319                    0                   0                   1   \n",
       "110172                    1                   0                   0   \n",
       "\n",
       "         pre_since_opened_3  pre_since_opened_4  pre_since_opened_5  \\\n",
       "2407614                   1                   0                   0   \n",
       "1687029                   0                   1                   0   \n",
       "1447093                   1                   0                   0   \n",
       "662319                    0                   0                   0   \n",
       "110172                    1                   0                   1   \n",
       "\n",
       "         pre_since_opened_6  pre_since_opened_7  pre_since_opened_8  \\\n",
       "2407614                   0                   0                   0   \n",
       "1687029                   2                   1                   0   \n",
       "1447093                   3                   3                   0   \n",
       "662319                    0                   0                   0   \n",
       "110172                    0                   0                   2   \n",
       "\n",
       "         pre_since_opened_9  ...  enc_loans_credit_type_7  \\\n",
       "2407614                   1  ...                        0   \n",
       "1687029                   0  ...                        0   \n",
       "1447093                   2  ...                        1   \n",
       "662319                    0  ...                        0   \n",
       "110172                    0  ...                        0   \n",
       "\n",
       "         enc_loans_account_cur_0  enc_loans_account_cur_1  \\\n",
       "2407614                        0                        5   \n",
       "1687029                        0                        9   \n",
       "1447093                        0                       24   \n",
       "662319                         0                        1   \n",
       "110172                         0                        8   \n",
       "\n",
       "         enc_loans_account_cur_2  enc_loans_account_cur_3  pclose_flag_0  \\\n",
       "2407614                        0                        0              2   \n",
       "1687029                        0                        0              9   \n",
       "1447093                        0                        0             19   \n",
       "662319                         0                        0              1   \n",
       "110172                         0                        0              7   \n",
       "\n",
       "         pclose_flag_1  fclose_flag_0  fclose_flag_1    rn_std  \n",
       "2407614              3              2              3 -0.602109  \n",
       "1687029              0              9              0  0.045408  \n",
       "1447093              5             21              3  2.473596  \n",
       "662319               0              1              0 -1.249626  \n",
       "110172               1              5              3 -0.116472  \n",
       "\n",
       "[5 rows x 420 columns]"
      ]
     },
     "execution_count": 19,
     "metadata": {},
     "output_type": "execute_result"
    }
   ],
   "source": [
    "# Нормализация тестовых данных с помощью StandardScaler\n",
    "std_scaled_test = std_scaler.transform(X_test[['rn']])\n",
    "\n",
    "X_test['rn_std'] = std_scaled_test\n",
    "X_test = X_test.drop('rn', axis=1)\n",
    "X_test.head()"
   ]
  },
  {
   "cell_type": "markdown",
   "metadata": {},
   "source": [
    "# 3. Modelling:"
   ]
  },
  {
   "cell_type": "code",
   "execution_count": 16,
   "metadata": {
    "execution": {
     "iopub.execute_input": "2023-11-23T16:22:10.133914Z",
     "iopub.status.busy": "2023-11-23T16:22:10.133358Z",
     "iopub.status.idle": "2023-11-23T16:22:19.224813Z",
     "shell.execute_reply": "2023-11-23T16:22:19.223611Z",
     "shell.execute_reply.started": "2023-11-23T16:22:10.133854Z"
    }
   },
   "outputs": [],
   "source": [
    "X_train_train, X_train_test, y_train_train, y_train_test = train_test_split(X_train, y_train, test_size=0.3)"
   ]
  },
  {
   "cell_type": "code",
   "execution_count": 17,
   "metadata": {
    "execution": {
     "iopub.execute_input": "2023-11-23T16:22:22.463229Z",
     "iopub.status.busy": "2023-11-23T16:22:22.462769Z",
     "iopub.status.idle": "2023-11-23T16:22:22.470456Z",
     "shell.execute_reply": "2023-11-23T16:22:22.469227Z",
     "shell.execute_reply.started": "2023-11-23T16:22:22.463193Z"
    }
   },
   "outputs": [
    {
     "name": "stdout",
     "output_type": "stream",
     "text": [
      "X_train_part: (720000, 420) | y_train_part: (720000,)\n"
     ]
    }
   ],
   "source": [
    "del X_train_train, y_train_train\n",
    "\n",
    "print('X_train_part:', X_train_test.shape, '| y_train_part:', y_train_test.shape)"
   ]
  },
  {
   "cell_type": "markdown",
   "metadata": {},
   "source": [
    "## 3.1.  Модели без тюнинга параметров:"
   ]
  },
  {
   "cell_type": "markdown",
   "metadata": {},
   "source": [
    "### 3.1.1. RandomForestClassifier:"
   ]
  },
  {
   "cell_type": "code",
   "execution_count": 30,
   "metadata": {
    "execution": {
     "iopub.execute_input": "2023-11-23T12:16:36.014181Z",
     "iopub.status.busy": "2023-11-23T12:16:36.013292Z",
     "iopub.status.idle": "2023-11-23T12:37:17.288936Z",
     "shell.execute_reply": "2023-11-23T12:37:17.286222Z",
     "shell.execute_reply.started": "2023-11-23T12:16:36.014115Z"
    }
   },
   "outputs": [
    {
     "name": "stdout",
     "output_type": "stream",
     "text": [
      "Train: 0.999983958645315\n",
      "Test: 0.6945644434276339\n"
     ]
    }
   ],
   "source": [
    "model = RandomForestClassifier()\n",
    "model.fit(X_train_test, y_train_test)\n",
    "\n",
    "pred_train = model.predict_proba(X_train_test)[:,1]\n",
    "print('Train:', roc_auc_score(y_train_test, pred_train))\n",
    "\n",
    "pred_test = model.predict_proba(X_test)[:,1]\n",
    "print('Test:', roc_auc_score(y_test, pred_test))"
   ]
  },
  {
   "cell_type": "markdown",
   "metadata": {},
   "source": [
    "### 3.1.2. Histogram-Based Gradient Boosting:"
   ]
  },
  {
   "cell_type": "code",
   "execution_count": 31,
   "metadata": {
    "execution": {
     "iopub.execute_input": "2023-11-23T12:39:48.792726Z",
     "iopub.status.busy": "2023-11-23T12:39:48.792183Z",
     "iopub.status.idle": "2023-11-23T12:42:36.262768Z",
     "shell.execute_reply": "2023-11-23T12:42:36.261795Z",
     "shell.execute_reply.started": "2023-11-23T12:39:48.792692Z"
    }
   },
   "outputs": [
    {
     "name": "stdout",
     "output_type": "stream",
     "text": [
      "Train: 0.787859958966018\n",
      "Test: 0.7521447879670886\n"
     ]
    }
   ],
   "source": [
    "model = HistGradientBoostingClassifier()\n",
    "model.fit(X_train_test, y_train_test)\n",
    "\n",
    "pred_train = model.predict_proba(X_train_test)[:,1]\n",
    "print('Train:', roc_auc_score(y_train_test, pred_train))\n",
    "\n",
    "pred_test = model.predict_proba(X_test)[:,1]\n",
    "print('Test:', roc_auc_score(y_test, pred_test))"
   ]
  },
  {
   "cell_type": "markdown",
   "metadata": {},
   "source": [
    "### 3.1.3. LightGBM:"
   ]
  },
  {
   "cell_type": "code",
   "execution_count": 32,
   "metadata": {
    "execution": {
     "iopub.execute_input": "2023-11-23T12:58:38.912295Z",
     "iopub.status.busy": "2023-11-23T12:58:38.911559Z",
     "iopub.status.idle": "2023-11-23T12:59:52.695694Z",
     "shell.execute_reply": "2023-11-23T12:59:52.694523Z",
     "shell.execute_reply.started": "2023-11-23T12:58:38.912239Z"
    }
   },
   "outputs": [
    {
     "name": "stdout",
     "output_type": "stream",
     "text": [
      "Train: 0.7873821489079967\n",
      "Test: 0.7530563857710267\n"
     ]
    }
   ],
   "source": [
    "model = LGBMClassifier()\n",
    "model.fit(X_train_test, y_train_test)\n",
    "\n",
    "pred_train = model.predict_proba(X_train_test)[:,1]\n",
    "print('Train:', roc_auc_score(y_train_test, pred_train))\n",
    "\n",
    "pred_test = model.predict_proba(X_test)[:,1]\n",
    "print('Test:', roc_auc_score(y_test, pred_test))"
   ]
  },
  {
   "cell_type": "markdown",
   "metadata": {},
   "source": [
    "### 3.1.4. CatBoost:"
   ]
  },
  {
   "cell_type": "code",
   "execution_count": 33,
   "metadata": {
    "execution": {
     "iopub.execute_input": "2023-11-23T13:09:39.656099Z",
     "iopub.status.busy": "2023-11-23T13:09:39.655520Z",
     "iopub.status.idle": "2023-11-23T13:10:17.469321Z",
     "shell.execute_reply": "2023-11-23T13:10:17.467998Z",
     "shell.execute_reply.started": "2023-11-23T13:09:39.656060Z"
    }
   },
   "outputs": [
    {
     "name": "stdout",
     "output_type": "stream",
     "text": [
      "Learning rate set to 0.5\n",
      "0:\tlearn: 0.2343547\ttotal: 518ms\tremaining: 25.4s\n",
      "1:\tlearn: 0.1656552\ttotal: 1.05s\tremaining: 25.2s\n",
      "2:\tlearn: 0.1507941\ttotal: 1.73s\tremaining: 27.1s\n",
      "3:\tlearn: 0.1455474\ttotal: 2.53s\tremaining: 29.1s\n",
      "4:\tlearn: 0.1437666\ttotal: 3.7s\tremaining: 33.3s\n",
      "5:\tlearn: 0.1430436\ttotal: 4.58s\tremaining: 33.6s\n",
      "6:\tlearn: 0.1422379\ttotal: 5.41s\tremaining: 33.2s\n",
      "7:\tlearn: 0.1417177\ttotal: 6.13s\tremaining: 32.2s\n",
      "8:\tlearn: 0.1413848\ttotal: 6.83s\tremaining: 31.1s\n",
      "9:\tlearn: 0.1410974\ttotal: 7.49s\tremaining: 29.9s\n",
      "10:\tlearn: 0.1408835\ttotal: 8.11s\tremaining: 28.8s\n",
      "11:\tlearn: 0.1406909\ttotal: 8.86s\tremaining: 28.1s\n",
      "12:\tlearn: 0.1405011\ttotal: 9.49s\tremaining: 27s\n",
      "13:\tlearn: 0.1402825\ttotal: 10.1s\tremaining: 25.9s\n",
      "14:\tlearn: 0.1401136\ttotal: 10.9s\tremaining: 25.3s\n",
      "15:\tlearn: 0.1399345\ttotal: 11.5s\tremaining: 24.5s\n",
      "16:\tlearn: 0.1398352\ttotal: 12s\tremaining: 23.3s\n",
      "17:\tlearn: 0.1396781\ttotal: 12.8s\tremaining: 22.8s\n",
      "18:\tlearn: 0.1395504\ttotal: 13.8s\tremaining: 22.5s\n",
      "19:\tlearn: 0.1395121\ttotal: 14.2s\tremaining: 21.4s\n",
      "20:\tlearn: 0.1393979\ttotal: 14.9s\tremaining: 20.6s\n",
      "21:\tlearn: 0.1393145\ttotal: 15.6s\tremaining: 19.9s\n",
      "22:\tlearn: 0.1392593\ttotal: 16.2s\tremaining: 19.1s\n",
      "23:\tlearn: 0.1391968\ttotal: 16.7s\tremaining: 18.1s\n",
      "24:\tlearn: 0.1391326\ttotal: 17.3s\tremaining: 17.3s\n",
      "25:\tlearn: 0.1390842\ttotal: 17.8s\tremaining: 16.4s\n",
      "26:\tlearn: 0.1390299\ttotal: 18.5s\tremaining: 15.7s\n",
      "27:\tlearn: 0.1389558\ttotal: 19s\tremaining: 14.9s\n",
      "28:\tlearn: 0.1388429\ttotal: 19.6s\tremaining: 14.2s\n",
      "29:\tlearn: 0.1387651\ttotal: 20.4s\tremaining: 13.6s\n",
      "30:\tlearn: 0.1387016\ttotal: 21s\tremaining: 12.9s\n",
      "31:\tlearn: 0.1386926\ttotal: 21.4s\tremaining: 12.1s\n",
      "32:\tlearn: 0.1386499\ttotal: 21.9s\tremaining: 11.3s\n",
      "33:\tlearn: 0.1386010\ttotal: 22.4s\tremaining: 10.5s\n",
      "34:\tlearn: 0.1383759\ttotal: 23.3s\tremaining: 9.97s\n",
      "35:\tlearn: 0.1383109\ttotal: 24s\tremaining: 9.34s\n",
      "36:\tlearn: 0.1382376\ttotal: 24.7s\tremaining: 8.67s\n",
      "37:\tlearn: 0.1381312\ttotal: 25.3s\tremaining: 8s\n",
      "38:\tlearn: 0.1380483\ttotal: 26.1s\tremaining: 7.35s\n",
      "39:\tlearn: 0.1379922\ttotal: 26.6s\tremaining: 6.66s\n",
      "40:\tlearn: 0.1379616\ttotal: 27.2s\tremaining: 5.97s\n",
      "41:\tlearn: 0.1378325\ttotal: 27.9s\tremaining: 5.31s\n",
      "42:\tlearn: 0.1378263\ttotal: 28.4s\tremaining: 4.62s\n",
      "43:\tlearn: 0.1377977\ttotal: 28.9s\tremaining: 3.95s\n",
      "44:\tlearn: 0.1377520\ttotal: 29.4s\tremaining: 3.27s\n",
      "45:\tlearn: 0.1376577\ttotal: 30.1s\tremaining: 2.62s\n",
      "46:\tlearn: 0.1376525\ttotal: 30.5s\tremaining: 1.95s\n",
      "47:\tlearn: 0.1376172\ttotal: 31s\tremaining: 1.29s\n",
      "48:\tlearn: 0.1375355\ttotal: 31.6s\tremaining: 644ms\n",
      "49:\tlearn: 0.1374879\ttotal: 32.1s\tremaining: 0us\n",
      "Train: 0.7586514274831607\n",
      "Test: 0.7477302550238442\n"
     ]
    }
   ],
   "source": [
    "model = CatBoostClassifier(iterations=50)\n",
    "model.fit(X_train_test, y_train_test)\n",
    "\n",
    "pred_train = model.predict_proba(X_train_test)[:,1]\n",
    "print('Train:', roc_auc_score(y_train_test, pred_train))\n",
    "\n",
    "pred_test = model.predict_proba(X_test)[:,1]\n",
    "print('Test:', roc_auc_score(y_test, pred_test))"
   ]
  },
  {
   "cell_type": "markdown",
   "metadata": {},
   "source": [
    "## 3.2. Подбор параметров:"
   ]
  },
  {
   "cell_type": "markdown",
   "metadata": {},
   "source": [
    "### 3.2.1. Histogram-Based Gradient Boosting:"
   ]
  },
  {
   "cell_type": "code",
   "execution_count": 34,
   "metadata": {
    "execution": {
     "iopub.execute_input": "2023-11-23T13:11:11.473953Z",
     "iopub.status.busy": "2023-11-23T13:11:11.473442Z",
     "iopub.status.idle": "2023-11-23T13:24:08.865729Z",
     "shell.execute_reply": "2023-11-23T13:24:08.864225Z",
     "shell.execute_reply.started": "2023-11-23T13:11:11.473909Z"
    }
   },
   "outputs": [
    {
     "name": "stdout",
     "output_type": "stream",
     "text": [
      "Best score: 0.7514219441892246\n",
      "Best estimator: HistGradientBoostingClassifier(class_weight='balanced', max_depth=10,\n",
      "                               max_iter=90, random_state=42)\n"
     ]
    }
   ],
   "source": [
    "params = {'max_iter' : [60, 90],\n",
    "          'max_depth' : [5, 10]}\n",
    "\n",
    "gs = GridSearchCV(HistGradientBoostingClassifier(random_state=42, class_weight='balanced'), params, cv=3, scoring='roc_auc', n_jobs=-1)\n",
    "\n",
    "gs.fit(X_train_test, y_train_test)\n",
    "print('Best score:', gs.best_score_)\n",
    "print('Best estimator:', gs.best_estimator_)"
   ]
  },
  {
   "cell_type": "markdown",
   "metadata": {},
   "source": [
    "### 3.2.2. LightGBM:"
   ]
  },
  {
   "cell_type": "code",
   "execution_count": 35,
   "metadata": {
    "execution": {
     "iopub.execute_input": "2023-11-23T13:25:42.630878Z",
     "iopub.status.busy": "2023-11-23T13:25:42.630272Z",
     "iopub.status.idle": "2023-11-23T14:02:45.875578Z",
     "shell.execute_reply": "2023-11-23T14:02:45.874318Z",
     "shell.execute_reply.started": "2023-11-23T13:25:42.630831Z"
    }
   },
   "outputs": [
    {
     "name": "stdout",
     "output_type": "stream",
     "text": [
      "Best score: 0.7517131338073447\n",
      "Best estimator: LGBMClassifier(class_weight='balanced', learning_rate=0.05, max_depth=10,\n",
      "               num_leaves=64, objective='binary', random_state=42)\n"
     ]
    }
   ],
   "source": [
    "params = {'num_leaves' : [48, 64],\n",
    "          'max_depth' : [5, 10],\n",
    "          'learning_rate': [0.05, 0.1]}\n",
    "\n",
    "gs = GridSearchCV(LGBMClassifier(random_state=42, class_weight='balanced', objective='binary'), params, cv=3, scoring='roc_auc', n_jobs=-1)\n",
    "\n",
    "gs.fit(X_train_test, y_train_test)\n",
    "print('Best score:', gs.best_score_)\n",
    "print('Best estimator:', gs.best_estimator_)"
   ]
  },
  {
   "cell_type": "markdown",
   "metadata": {},
   "source": [
    "## 3.3. Модели после тюнинга параметров:"
   ]
  },
  {
   "cell_type": "markdown",
   "metadata": {},
   "source": [
    "### 3.3.1. Histogram-Based Gradient Boosting:"
   ]
  },
  {
   "cell_type": "code",
   "execution_count": 12,
   "metadata": {
    "execution": {
     "iopub.execute_input": "2023-11-23T15:48:58.303051Z",
     "iopub.status.busy": "2023-11-23T15:48:58.302593Z",
     "iopub.status.idle": "2023-11-23T15:57:38.712838Z",
     "shell.execute_reply": "2023-11-23T15:57:38.711301Z",
     "shell.execute_reply.started": "2023-11-23T15:48:58.303013Z"
    }
   },
   "outputs": [
    {
     "name": "stdout",
     "output_type": "stream",
     "text": [
      "Train: 0.7652558409625418\n",
      "Test: 0.7563341707220772\n"
     ]
    }
   ],
   "source": [
    "model = HistGradientBoostingClassifier(class_weight='balanced', max_depth=10, max_iter=90, random_state=42)\n",
    "model.fit(X_train, y_train)\n",
    "\n",
    "pred_train = model.predict_proba(X_train)[:,1]\n",
    "print('Train:', roc_auc_score(y_train, pred_train))\n",
    "\n",
    "pred_test = model.predict_proba(X_test)[:,1]\n",
    "print('Test:', roc_auc_score(y_test, pred_test))"
   ]
  },
  {
   "cell_type": "code",
   "execution_count": 13,
   "metadata": {
    "execution": {
     "iopub.execute_input": "2023-11-23T16:00:15.317206Z",
     "iopub.status.busy": "2023-11-23T16:00:15.315718Z",
     "iopub.status.idle": "2023-11-23T16:16:55.729418Z",
     "shell.execute_reply": "2023-11-23T16:16:55.728283Z",
     "shell.execute_reply.started": "2023-11-23T16:00:15.317152Z"
    }
   },
   "outputs": [
    {
     "data": {
      "text/plain": [
       "array([0.75855738, 0.75569329, 0.75616936])"
      ]
     },
     "execution_count": 13,
     "metadata": {},
     "output_type": "execute_result"
    }
   ],
   "source": [
    "cv_score = cross_val_score(model, X_train, y_train, cv=3, scoring='roc_auc')\n",
    "cv_score"
   ]
  },
  {
   "cell_type": "code",
   "execution_count": 14,
   "metadata": {
    "execution": {
     "iopub.execute_input": "2023-11-23T16:21:58.136745Z",
     "iopub.status.busy": "2023-11-23T16:21:58.136249Z",
     "iopub.status.idle": "2023-11-23T16:21:58.145754Z",
     "shell.execute_reply": "2023-11-23T16:21:58.144549Z",
     "shell.execute_reply.started": "2023-11-23T16:21:58.136709Z"
    }
   },
   "outputs": [
    {
     "data": {
      "text/plain": [
       "(0.7568066764992137, 0.0012530995652680816)"
      ]
     },
     "execution_count": 14,
     "metadata": {},
     "output_type": "execute_result"
    }
   ],
   "source": [
    "cv_score.mean(), cv_score.std()"
   ]
  },
  {
   "cell_type": "markdown",
   "metadata": {},
   "source": [
    "### 3.3.2. LightGBM:"
   ]
  },
  {
   "cell_type": "code",
   "execution_count": 9,
   "metadata": {
    "execution": {
     "iopub.execute_input": "2023-11-23T15:21:19.328645Z",
     "iopub.status.busy": "2023-11-23T15:21:19.328205Z",
     "iopub.status.idle": "2023-11-23T15:26:18.280418Z",
     "shell.execute_reply": "2023-11-23T15:26:18.279067Z",
     "shell.execute_reply.started": "2023-11-23T15:21:19.328613Z"
    }
   },
   "outputs": [
    {
     "name": "stdout",
     "output_type": "stream",
     "text": [
      "Train: 0.7660458249008022\n",
      "Test: 0.7550859014831048\n"
     ]
    }
   ],
   "source": [
    "model = LGBMClassifier(class_weight='balanced', learning_rate=0.05, max_depth=10,\n",
    "                       num_leaves=64, objective='binary', random_state=42)\n",
    "model.fit(X_train, y_train)\n",
    "\n",
    "pred_train = model.predict_proba(X_train)[:,1]\n",
    "print('Train:', roc_auc_score(y_train, pred_train))\n",
    "\n",
    "pred_test = model.predict_proba(X_test)[:,1]\n",
    "print('Test:', roc_auc_score(y_test, pred_test))"
   ]
  },
  {
   "cell_type": "code",
   "execution_count": 10,
   "metadata": {
    "execution": {
     "iopub.execute_input": "2023-11-23T15:30:03.317957Z",
     "iopub.status.busy": "2023-11-23T15:30:03.317444Z",
     "iopub.status.idle": "2023-11-23T15:39:27.002687Z",
     "shell.execute_reply": "2023-11-23T15:39:27.001467Z",
     "shell.execute_reply.started": "2023-11-23T15:30:03.317913Z"
    }
   },
   "outputs": [
    {
     "data": {
      "text/plain": [
       "array([0.75739598, 0.75392852, 0.75470817])"
      ]
     },
     "execution_count": 10,
     "metadata": {},
     "output_type": "execute_result"
    }
   ],
   "source": [
    "cv_score = cross_val_score(model, X_train, y_train, cv=3, scoring='roc_auc')\n",
    "cv_score"
   ]
  },
  {
   "cell_type": "code",
   "execution_count": 11,
   "metadata": {
    "execution": {
     "iopub.execute_input": "2023-11-23T15:48:51.047338Z",
     "iopub.status.busy": "2023-11-23T15:48:51.046731Z",
     "iopub.status.idle": "2023-11-23T15:48:51.056591Z",
     "shell.execute_reply": "2023-11-23T15:48:51.055229Z",
     "shell.execute_reply.started": "2023-11-23T15:48:51.047294Z"
    }
   },
   "outputs": [
    {
     "data": {
      "text/plain": [
       "(0.7553442245607732, 0.0014853160630174896)"
      ]
     },
     "execution_count": 11,
     "metadata": {},
     "output_type": "execute_result"
    }
   ],
   "source": [
    "cv_score.mean(), cv_score.std()"
   ]
  },
  {
   "cell_type": "markdown",
   "metadata": {},
   "source": [
    "## 3.4. Нейронная сеть:"
   ]
  },
  {
   "cell_type": "code",
   "execution_count": 18,
   "metadata": {
    "execution": {
     "iopub.execute_input": "2023-11-23T16:22:27.901506Z",
     "iopub.status.busy": "2023-11-23T16:22:27.901037Z",
     "iopub.status.idle": "2023-11-23T16:22:28.115316Z",
     "shell.execute_reply": "2023-11-23T16:22:28.113827Z",
     "shell.execute_reply.started": "2023-11-23T16:22:27.901471Z"
    }
   },
   "outputs": [],
   "source": [
    "X_train_test = X_train_test.to_numpy()\n",
    "y_train_test = y_train_test.to_numpy()\n",
    "\n",
    "X_test = X_test.to_numpy()\n",
    "y_test = y_test.to_numpy()"
   ]
  },
  {
   "cell_type": "code",
   "execution_count": 19,
   "metadata": {
    "execution": {
     "iopub.execute_input": "2023-11-23T16:22:30.114083Z",
     "iopub.status.busy": "2023-11-23T16:22:30.113655Z",
     "iopub.status.idle": "2023-11-23T16:22:30.503526Z",
     "shell.execute_reply": "2023-11-23T16:22:30.502541Z",
     "shell.execute_reply.started": "2023-11-23T16:22:30.114052Z"
    }
   },
   "outputs": [],
   "source": [
    "class MyDataset(Dataset):\n",
    "    def __init__(self, X, y):\n",
    "        self.X = torch.from_numpy(X.astype(np.float32))\n",
    "        self.y = torch.from_numpy(y.astype(np.float32))\n",
    "        \n",
    "    def __getitem__(self, index):\n",
    "        return self.X[index], self.y[index]\n",
    "    \n",
    "    def __len__(self):\n",
    "        return self.X.shape[0]\n",
    "    \n",
    "train_data = MyDataset(X_train_test, y_train_test)"
   ]
  },
  {
   "cell_type": "code",
   "execution_count": 20,
   "metadata": {
    "execution": {
     "iopub.execute_input": "2023-11-23T16:22:34.440478Z",
     "iopub.status.busy": "2023-11-23T16:22:34.440042Z",
     "iopub.status.idle": "2023-11-23T16:22:50.746948Z",
     "shell.execute_reply": "2023-11-23T16:22:50.745658Z",
     "shell.execute_reply.started": "2023-11-23T16:22:34.440443Z"
    }
   },
   "outputs": [
    {
     "name": "stdout",
     "output_type": "stream",
     "text": [
      "batch #0, X_shape: torch.Size([50000, 420]), y_shape: torch.Size([50000])\n",
      "batch #1, X_shape: torch.Size([50000, 420]), y_shape: torch.Size([50000])\n",
      "batch #2, X_shape: torch.Size([50000, 420]), y_shape: torch.Size([50000])\n",
      "batch #3, X_shape: torch.Size([50000, 420]), y_shape: torch.Size([50000])\n",
      "batch #4, X_shape: torch.Size([50000, 420]), y_shape: torch.Size([50000])\n",
      "batch #5, X_shape: torch.Size([50000, 420]), y_shape: torch.Size([50000])\n",
      "batch #6, X_shape: torch.Size([50000, 420]), y_shape: torch.Size([50000])\n",
      "batch #7, X_shape: torch.Size([50000, 420]), y_shape: torch.Size([50000])\n",
      "batch #8, X_shape: torch.Size([50000, 420]), y_shape: torch.Size([50000])\n",
      "batch #9, X_shape: torch.Size([50000, 420]), y_shape: torch.Size([50000])\n",
      "batch #10, X_shape: torch.Size([50000, 420]), y_shape: torch.Size([50000])\n",
      "batch #11, X_shape: torch.Size([50000, 420]), y_shape: torch.Size([50000])\n",
      "batch #12, X_shape: torch.Size([50000, 420]), y_shape: torch.Size([50000])\n",
      "batch #13, X_shape: torch.Size([50000, 420]), y_shape: torch.Size([50000])\n",
      "batch #14, X_shape: torch.Size([20000, 420]), y_shape: torch.Size([20000])\n"
     ]
    }
   ],
   "source": [
    "batch_size = 50000\n",
    "\n",
    "train_dataloader = DataLoader(\n",
    "    train_data,\n",
    "    batch_size=batch_size,\n",
    "    shuffle=True\n",
    ")\n",
    "\n",
    "for i, (X_batch, y_batch) in enumerate(train_dataloader):\n",
    "    print(f'batch #{i}, X_shape: {X_batch.shape}, y_shape: {y_batch.shape}')"
   ]
  },
  {
   "cell_type": "code",
   "execution_count": 21,
   "metadata": {
    "execution": {
     "iopub.execute_input": "2023-11-23T16:23:08.298791Z",
     "iopub.status.busy": "2023-11-23T16:23:08.298339Z",
     "iopub.status.idle": "2023-11-23T16:23:08.308070Z",
     "shell.execute_reply": "2023-11-23T16:23:08.306594Z",
     "shell.execute_reply.started": "2023-11-23T16:23:08.298755Z"
    }
   },
   "outputs": [],
   "source": [
    "class MyNet(nn.Module):\n",
    "    def __init__(self, input_dim, hidden_dim, output_dim):\n",
    "        super().__init__()\n",
    "        \n",
    "        self.hidden = nn.Linear(input_dim, hidden_dim)\n",
    "        \n",
    "        self.f1 = nn.Sigmoid()\n",
    "        \n",
    "        self.output = nn.Linear(hidden_dim, output_dim)\n",
    "        \n",
    "        self.f2 = nn.Sigmoid()\n",
    "        \n",
    "    def forward(self, x):\n",
    "        x = self.f1(self.hidden(x))\n",
    "        x = self.f2(self.output(x))\n",
    "        \n",
    "        return x"
   ]
  },
  {
   "cell_type": "code",
   "execution_count": 22,
   "metadata": {
    "execution": {
     "iopub.execute_input": "2023-11-23T16:23:12.015359Z",
     "iopub.status.busy": "2023-11-23T16:23:12.014874Z",
     "iopub.status.idle": "2023-11-23T16:23:12.026206Z",
     "shell.execute_reply": "2023-11-23T16:23:12.024822Z",
     "shell.execute_reply.started": "2023-11-23T16:23:12.015319Z"
    }
   },
   "outputs": [
    {
     "name": "stdout",
     "output_type": "stream",
     "text": [
      "MyNet(\n",
      "  (hidden): Linear(in_features=420, out_features=16, bias=True)\n",
      "  (f1): Sigmoid()\n",
      "  (output): Linear(in_features=16, out_features=1, bias=True)\n",
      "  (f2): Sigmoid()\n",
      ")\n"
     ]
    }
   ],
   "source": [
    "my_net = MyNet(420, 16, 1)\n",
    "\n",
    "print(my_net)"
   ]
  },
  {
   "cell_type": "code",
   "execution_count": 23,
   "metadata": {
    "execution": {
     "iopub.execute_input": "2023-11-23T16:23:18.090452Z",
     "iopub.status.busy": "2023-11-23T16:23:18.089789Z",
     "iopub.status.idle": "2023-11-23T16:23:18.096760Z",
     "shell.execute_reply": "2023-11-23T16:23:18.095398Z",
     "shell.execute_reply.started": "2023-11-23T16:23:18.090397Z"
    }
   },
   "outputs": [],
   "source": [
    "loss_fn = nn.BCELoss()\n",
    "\n",
    "optimizer = torch.optim.SGD(my_net.parameters(), lr=0.5)"
   ]
  },
  {
   "cell_type": "code",
   "execution_count": 24,
   "metadata": {
    "execution": {
     "iopub.execute_input": "2023-11-23T16:23:22.822404Z",
     "iopub.status.busy": "2023-11-23T16:23:22.821942Z",
     "iopub.status.idle": "2023-11-23T16:37:04.979204Z",
     "shell.execute_reply": "2023-11-23T16:37:04.978049Z",
     "shell.execute_reply.started": "2023-11-23T16:23:22.822368Z"
    }
   },
   "outputs": [],
   "source": [
    "num_epochs = 50\n",
    "\n",
    "loss_values = []\n",
    "\n",
    "for epoch in range(num_epochs):\n",
    "    for X, y in train_dataloader:\n",
    "        \n",
    "        pred = my_net(X)\n",
    "        \n",
    "        loss = loss_fn(pred, y.unsqueeze(-1))\n",
    "        \n",
    "        optimizer.zero_grad()\n",
    "        \n",
    "        loss.backward()\n",
    "        \n",
    "        optimizer.step()\n",
    "        \n",
    "    loss = loss_fn(pred, y.unsqueeze(-1))\n",
    "    loss_values.append(loss.item())"
   ]
  },
  {
   "cell_type": "code",
   "execution_count": 25,
   "metadata": {
    "execution": {
     "iopub.execute_input": "2023-11-23T16:43:59.791221Z",
     "iopub.status.busy": "2023-11-23T16:43:59.790713Z",
     "iopub.status.idle": "2023-11-23T16:44:00.131551Z",
     "shell.execute_reply": "2023-11-23T16:44:00.130261Z",
     "shell.execute_reply.started": "2023-11-23T16:43:59.791185Z"
    }
   },
   "outputs": [
    {
     "data": {
      "image/png": "[encoded data removed]",
      "text/plain": [
       "<Figure size 800x500 with 1 Axes>"
      ]
     },
     "metadata": {},
     "output_type": "display_data"
    }
   ],
   "source": [
    "step = np.linspace(0, num_epochs)\n",
    "\n",
    "fig, ax = plt.subplots(figsize=(8,5))\n",
    "plt.plot(step, np.array(loss_values))\n",
    "plt.title('Loss')\n",
    "plt.xlabel('Epochs')\n",
    "plt.ylabel('Loss')\n",
    "plt.show()"
   ]
  },
  {
   "cell_type": "code",
   "execution_count": 26,
   "metadata": {
    "execution": {
     "iopub.execute_input": "2023-11-23T16:44:03.174197Z",
     "iopub.status.busy": "2023-11-23T16:44:03.173327Z",
     "iopub.status.idle": "2023-11-23T16:44:04.496370Z",
     "shell.execute_reply": "2023-11-23T16:44:04.495041Z",
     "shell.execute_reply.started": "2023-11-23T16:44:03.174137Z"
    }
   },
   "outputs": [
    {
     "name": "stdout",
     "output_type": "stream",
     "text": [
      "0.7163875433653599\n"
     ]
    }
   ],
   "source": [
    "with torch.no_grad():\n",
    "    y_pred = my_net(torch.from_numpy(X_test.astype(np.float32)))\n",
    "    \n",
    "y = y_pred.detach().numpy()\n",
    "print(roc_auc_score(y_test, y))"
   ]
  },
  {
   "cell_type": "markdown",
   "metadata": {},
   "source": [
    "# 4. Results:"
   ]
  },
  {
   "cell_type": "markdown",
   "metadata": {},
   "source": [
    "## 4.1. Лучшая модель:"
   ]
  },
  {
   "cell_type": "code",
   "execution_count": 11,
   "metadata": {
    "execution": {
     "iopub.execute_input": "2023-11-24T09:48:41.580959Z",
     "iopub.status.busy": "2023-11-24T09:48:41.580505Z",
     "iopub.status.idle": "2023-11-24T09:55:14.760262Z",
     "shell.execute_reply": "2023-11-24T09:55:14.757942Z",
     "shell.execute_reply.started": "2023-11-24T09:48:41.580929Z"
    }
   },
   "outputs": [
    {
     "name": "stdout",
     "output_type": "stream",
     "text": [
      "Train 0.7652558409625418\n",
      "Test 0.7563341707220772\n"
     ]
    }
   ],
   "source": [
    "model = HistGradientBoostingClassifier(class_weight='balanced', max_depth=10, max_iter=90, random_state=42)\n",
    "model.fit(X_train, y_train)\n",
    "\n",
    "pred_train = model.predict_proba(X_train)[:,1]\n",
    "print('Train', roc_auc_score(y_train, pred_train))\n",
    "\n",
    "pred_test = model.predict_proba(X_test)[:,1]\n",
    "print('Test', roc_auc_score(y_test, pred_test))"
   ]
  },
  {
   "cell_type": "markdown",
   "metadata": {},
   "source": [
    "## 4.2. Создание файла с предиктами на тестовой выборке:"
   ]
  },
  {
   "cell_type": "code",
   "execution_count": 12,
   "metadata": {
    "execution": {
     "iopub.execute_input": "2023-11-24T09:56:12.208364Z",
     "iopub.status.busy": "2023-11-24T09:56:12.207880Z",
     "iopub.status.idle": "2023-11-24T09:56:12.376051Z",
     "shell.execute_reply": "2023-11-24T09:56:12.375143Z",
     "shell.execute_reply.started": "2023-11-24T09:56:12.208331Z"
    }
   },
   "outputs": [
    {
     "name": "stdout",
     "output_type": "stream",
     "text": [
      "[0.39322312 0.3653799  0.51167454 ... 0.43138674 0.5727904  0.42532023]\n",
      "[0. 0. 1. ... 0. 1. 0.]\n"
     ]
    }
   ],
   "source": [
    "print(pred_test)\n",
    "\n",
    "for i in range(len(pred_test)):\n",
    "    if pred_test[i] < 0.5:\n",
    "        pred_test[i] = 0\n",
    "    else:\n",
    "        pred_test[i] = 1\n",
    "        \n",
    "print(pred_test)"
   ]
  },
  {
   "cell_type": "code",
   "execution_count": 13,
   "metadata": {
    "execution": {
     "iopub.execute_input": "2023-11-24T09:56:14.420166Z",
     "iopub.status.busy": "2023-11-24T09:56:14.419768Z",
     "iopub.status.idle": "2023-11-24T09:56:14.436226Z",
     "shell.execute_reply": "2023-11-24T09:56:14.435174Z",
     "shell.execute_reply.started": "2023-11-24T09:56:14.420136Z"
    }
   },
   "outputs": [
    {
     "data": {
      "text/html": [
       "<div>\n",
       "<style scoped>\n",
       "    .dataframe tbody tr th:only-of-type {\n",
       "        vertical-align: middle;\n",
       "    }\n",
       "\n",
       "    .dataframe tbody tr th {\n",
       "        vertical-align: top;\n",
       "    }\n",
       "\n",
       "    .dataframe thead th {\n",
       "        text-align: right;\n",
       "    }\n",
       "</style>\n",
       "<table border=\"1\" class=\"dataframe\">\n",
       "  <thead>\n",
       "    <tr style=\"text-align: right;\">\n",
       "      <th></th>\n",
       "      <th>Predict</th>\n",
       "    </tr>\n",
       "  </thead>\n",
       "  <tbody>\n",
       "    <tr>\n",
       "      <th>0</th>\n",
       "      <td>0.0</td>\n",
       "    </tr>\n",
       "    <tr>\n",
       "      <th>1</th>\n",
       "      <td>0.0</td>\n",
       "    </tr>\n",
       "    <tr>\n",
       "      <th>2</th>\n",
       "      <td>1.0</td>\n",
       "    </tr>\n",
       "    <tr>\n",
       "      <th>3</th>\n",
       "      <td>0.0</td>\n",
       "    </tr>\n",
       "    <tr>\n",
       "      <th>4</th>\n",
       "      <td>0.0</td>\n",
       "    </tr>\n",
       "    <tr>\n",
       "      <th>...</th>\n",
       "      <td>...</td>\n",
       "    </tr>\n",
       "    <tr>\n",
       "      <th>599995</th>\n",
       "      <td>0.0</td>\n",
       "    </tr>\n",
       "    <tr>\n",
       "      <th>599996</th>\n",
       "      <td>1.0</td>\n",
       "    </tr>\n",
       "    <tr>\n",
       "      <th>599997</th>\n",
       "      <td>0.0</td>\n",
       "    </tr>\n",
       "    <tr>\n",
       "      <th>599998</th>\n",
       "      <td>1.0</td>\n",
       "    </tr>\n",
       "    <tr>\n",
       "      <th>599999</th>\n",
       "      <td>0.0</td>\n",
       "    </tr>\n",
       "  </tbody>\n",
       "</table>\n",
       "<p>600000 rows × 1 columns</p>\n",
       "</div>"
      ],
      "text/plain": [
       "        Predict\n",
       "0           0.0\n",
       "1           0.0\n",
       "2           1.0\n",
       "3           0.0\n",
       "4           0.0\n",
       "...         ...\n",
       "599995      0.0\n",
       "599996      1.0\n",
       "599997      0.0\n",
       "599998      1.0\n",
       "599999      0.0\n",
       "\n",
       "[600000 rows x 1 columns]"
      ]
     },
     "execution_count": 13,
     "metadata": {},
     "output_type": "execute_result"
    }
   ],
   "source": [
    "pred_test = pd.DataFrame({'Predict': pred_test[:]})\n",
    "pred_test "
   ]
  },
  {
   "cell_type": "code",
   "execution_count": 14,
   "metadata": {
    "execution": {
     "iopub.execute_input": "2023-11-24T09:56:17.126012Z",
     "iopub.status.busy": "2023-11-24T09:56:17.125624Z",
     "iopub.status.idle": "2023-11-24T09:56:17.891391Z",
     "shell.execute_reply": "2023-11-24T09:56:17.890028Z",
     "shell.execute_reply.started": "2023-11-24T09:56:17.125983Z"
    }
   },
   "outputs": [],
   "source": [
    "pred_test.to_csv('predictions.csv', index=True)"
   ]
  },
  {
   "cell_type": "markdown",
   "metadata": {},
   "source": [
    "# 5. Pipeline:"
   ]
  },
  {
   "cell_type": "code",
   "execution_count": 6,
   "metadata": {
    "execution": {
     "iopub.execute_input": "2023-11-24T09:25:32.434496Z",
     "iopub.status.busy": "2023-11-24T09:25:32.433981Z",
     "iopub.status.idle": "2023-11-24T09:25:32.442290Z",
     "shell.execute_reply": "2023-11-24T09:25:32.441228Z",
     "shell.execute_reply.started": "2023-11-24T09:25:32.434426Z"
    }
   },
   "outputs": [],
   "source": [
    "def transform_cols(df):\n",
    "    import pandas as pd\n",
    "    \n",
    "    columns = df.columns[2:]\n",
    "    \n",
    "    id_df = df[['id']]\n",
    "    data_df = id_df.groupby(['id']).agg(func=sum)\n",
    "\n",
    "    ohe = OneHotEncoder(sparse=False)\n",
    "\n",
    "    for column in columns:\n",
    "        data = df[[column]] \n",
    "\n",
    "        ohe.fit(data)\n",
    "        ohe_data = ohe.transform(data)\n",
    "\n",
    "        id_df[ohe.get_feature_names_out()] = ohe_data.astype('int8')\n",
    "        id_df = id_df.groupby(['id']).agg(func=sum)\n",
    "\n",
    "        data_df = data_df.merge(id_df, left_on='id', right_on='id', how='inner')\n",
    "        id_df = df[['id']]\n",
    "        \n",
    "    rn_df = df[['id', 'rn']].groupby(['id']).agg(func=max)\n",
    "    df = data_df.merge(rn_df, left_on='id', right_on='id', how='inner')\n",
    "\n",
    "    return df"
   ]
  },
  {
   "cell_type": "code",
   "execution_count": 7,
   "metadata": {
    "execution": {
     "iopub.execute_input": "2023-11-24T09:25:36.927606Z",
     "iopub.status.busy": "2023-11-24T09:25:36.927206Z",
     "iopub.status.idle": "2023-11-24T09:25:52.672458Z",
     "shell.execute_reply": "2023-11-24T09:25:52.671106Z",
     "shell.execute_reply.started": "2023-11-24T09:25:36.927579Z"
    }
   },
   "outputs": [
    {
     "data": {
      "text/html": [
       "<div>\n",
       "<style scoped>\n",
       "    .dataframe tbody tr th:only-of-type {\n",
       "        vertical-align: middle;\n",
       "    }\n",
       "\n",
       "    .dataframe tbody tr th {\n",
       "        vertical-align: top;\n",
       "    }\n",
       "\n",
       "    .dataframe thead th {\n",
       "        text-align: right;\n",
       "    }\n",
       "</style>\n",
       "<table border=\"1\" class=\"dataframe\">\n",
       "  <thead>\n",
       "    <tr style=\"text-align: right;\">\n",
       "      <th></th>\n",
       "      <th>id</th>\n",
       "      <th>rn</th>\n",
       "      <th>pre_since_opened</th>\n",
       "      <th>pre_since_confirmed</th>\n",
       "      <th>pre_pterm</th>\n",
       "      <th>pre_fterm</th>\n",
       "      <th>pre_till_pclose</th>\n",
       "      <th>pre_till_fclose</th>\n",
       "      <th>pre_loans_credit_limit</th>\n",
       "      <th>pre_loans_next_pay_summ</th>\n",
       "      <th>...</th>\n",
       "      <th>enc_paym_21</th>\n",
       "      <th>enc_paym_22</th>\n",
       "      <th>enc_paym_23</th>\n",
       "      <th>enc_paym_24</th>\n",
       "      <th>enc_loans_account_holder_type</th>\n",
       "      <th>enc_loans_credit_status</th>\n",
       "      <th>enc_loans_credit_type</th>\n",
       "      <th>enc_loans_account_cur</th>\n",
       "      <th>pclose_flag</th>\n",
       "      <th>fclose_flag</th>\n",
       "    </tr>\n",
       "  </thead>\n",
       "  <tbody>\n",
       "    <tr>\n",
       "      <th>0</th>\n",
       "      <td>0</td>\n",
       "      <td>1</td>\n",
       "      <td>18</td>\n",
       "      <td>9</td>\n",
       "      <td>2</td>\n",
       "      <td>3</td>\n",
       "      <td>16</td>\n",
       "      <td>10</td>\n",
       "      <td>11</td>\n",
       "      <td>3</td>\n",
       "      <td>...</td>\n",
       "      <td>3</td>\n",
       "      <td>3</td>\n",
       "      <td>3</td>\n",
       "      <td>4</td>\n",
       "      <td>1</td>\n",
       "      <td>3</td>\n",
       "      <td>4</td>\n",
       "      <td>1</td>\n",
       "      <td>0</td>\n",
       "      <td>0</td>\n",
       "    </tr>\n",
       "    <tr>\n",
       "      <th>1</th>\n",
       "      <td>0</td>\n",
       "      <td>2</td>\n",
       "      <td>18</td>\n",
       "      <td>9</td>\n",
       "      <td>14</td>\n",
       "      <td>14</td>\n",
       "      <td>12</td>\n",
       "      <td>12</td>\n",
       "      <td>0</td>\n",
       "      <td>3</td>\n",
       "      <td>...</td>\n",
       "      <td>0</td>\n",
       "      <td>0</td>\n",
       "      <td>0</td>\n",
       "      <td>4</td>\n",
       "      <td>1</td>\n",
       "      <td>3</td>\n",
       "      <td>4</td>\n",
       "      <td>1</td>\n",
       "      <td>0</td>\n",
       "      <td>0</td>\n",
       "    </tr>\n",
       "    <tr>\n",
       "      <th>2</th>\n",
       "      <td>0</td>\n",
       "      <td>3</td>\n",
       "      <td>18</td>\n",
       "      <td>9</td>\n",
       "      <td>4</td>\n",
       "      <td>8</td>\n",
       "      <td>1</td>\n",
       "      <td>11</td>\n",
       "      <td>11</td>\n",
       "      <td>0</td>\n",
       "      <td>...</td>\n",
       "      <td>0</td>\n",
       "      <td>0</td>\n",
       "      <td>0</td>\n",
       "      <td>4</td>\n",
       "      <td>1</td>\n",
       "      <td>2</td>\n",
       "      <td>3</td>\n",
       "      <td>1</td>\n",
       "      <td>1</td>\n",
       "      <td>1</td>\n",
       "    </tr>\n",
       "    <tr>\n",
       "      <th>3</th>\n",
       "      <td>0</td>\n",
       "      <td>4</td>\n",
       "      <td>4</td>\n",
       "      <td>1</td>\n",
       "      <td>9</td>\n",
       "      <td>12</td>\n",
       "      <td>16</td>\n",
       "      <td>7</td>\n",
       "      <td>12</td>\n",
       "      <td>2</td>\n",
       "      <td>...</td>\n",
       "      <td>3</td>\n",
       "      <td>3</td>\n",
       "      <td>3</td>\n",
       "      <td>4</td>\n",
       "      <td>1</td>\n",
       "      <td>3</td>\n",
       "      <td>1</td>\n",
       "      <td>1</td>\n",
       "      <td>0</td>\n",
       "      <td>0</td>\n",
       "    </tr>\n",
       "    <tr>\n",
       "      <th>4</th>\n",
       "      <td>0</td>\n",
       "      <td>5</td>\n",
       "      <td>5</td>\n",
       "      <td>12</td>\n",
       "      <td>15</td>\n",
       "      <td>2</td>\n",
       "      <td>11</td>\n",
       "      <td>12</td>\n",
       "      <td>10</td>\n",
       "      <td>2</td>\n",
       "      <td>...</td>\n",
       "      <td>3</td>\n",
       "      <td>3</td>\n",
       "      <td>3</td>\n",
       "      <td>4</td>\n",
       "      <td>1</td>\n",
       "      <td>3</td>\n",
       "      <td>4</td>\n",
       "      <td>1</td>\n",
       "      <td>0</td>\n",
       "      <td>0</td>\n",
       "    </tr>\n",
       "  </tbody>\n",
       "</table>\n",
       "<p>5 rows × 61 columns</p>\n",
       "</div>"
      ],
      "text/plain": [
       "   id  rn  pre_since_opened  pre_since_confirmed  pre_pterm  pre_fterm  \\\n",
       "0   0   1                18                    9          2          3   \n",
       "1   0   2                18                    9         14         14   \n",
       "2   0   3                18                    9          4          8   \n",
       "3   0   4                 4                    1          9         12   \n",
       "4   0   5                 5                   12         15          2   \n",
       "\n",
       "   pre_till_pclose  pre_till_fclose  pre_loans_credit_limit  \\\n",
       "0               16               10                      11   \n",
       "1               12               12                       0   \n",
       "2                1               11                      11   \n",
       "3               16                7                      12   \n",
       "4               11               12                      10   \n",
       "\n",
       "   pre_loans_next_pay_summ  ...  enc_paym_21  enc_paym_22  enc_paym_23  \\\n",
       "0                        3  ...            3            3            3   \n",
       "1                        3  ...            0            0            0   \n",
       "2                        0  ...            0            0            0   \n",
       "3                        2  ...            3            3            3   \n",
       "4                        2  ...            3            3            3   \n",
       "\n",
       "   enc_paym_24  enc_loans_account_holder_type  enc_loans_credit_status  \\\n",
       "0            4                              1                        3   \n",
       "1            4                              1                        3   \n",
       "2            4                              1                        2   \n",
       "3            4                              1                        3   \n",
       "4            4                              1                        3   \n",
       "\n",
       "   enc_loans_credit_type  enc_loans_account_cur  pclose_flag  fclose_flag  \n",
       "0                      4                      1            0            0  \n",
       "1                      4                      1            0            0  \n",
       "2                      3                      1            1            1  \n",
       "3                      1                      1            0            0  \n",
       "4                      4                      1            0            0  \n",
       "\n",
       "[5 rows x 61 columns]"
      ]
     },
     "execution_count": 7,
     "metadata": {},
     "output_type": "execute_result"
    }
   ],
   "source": [
    "X = pd.read_pickle('/kaggle/input/df-pickle/df.pickle')\n",
    "X.head()"
   ]
  },
  {
   "cell_type": "code",
   "execution_count": 8,
   "metadata": {
    "execution": {
     "iopub.execute_input": "2023-11-24T09:25:54.938096Z",
     "iopub.status.busy": "2023-11-24T09:25:54.937728Z",
     "iopub.status.idle": "2023-11-24T09:40:27.525393Z",
     "shell.execute_reply": "2023-11-24T09:40:27.524333Z",
     "shell.execute_reply.started": "2023-11-24T09:25:54.938062Z"
    }
   },
   "outputs": [
    {
     "data": {
      "text/html": [
       "<style>#sk-container-id-1 {color: black;background-color: white;}#sk-container-id-1 pre{padding: 0;}#sk-container-id-1 div.sk-toggleable {background-color: white;}#sk-container-id-1 label.sk-toggleable__label {cursor: pointer;display: block;width: 100%;margin-bottom: 0;padding: 0.3em;box-sizing: border-box;text-align: center;}#sk-container-id-1 label.sk-toggleable__label-arrow:before {content: \"▸\";float: left;margin-right: 0.25em;color: #696969;}#sk-container-id-1 label.sk-toggleable__label-arrow:hover:before {color: black;}#sk-container-id-1 div.sk-estimator:hover label.sk-toggleable__label-arrow:before {color: black;}#sk-container-id-1 div.sk-toggleable__content {max-height: 0;max-width: 0;overflow: hidden;text-align: left;background-color: #f0f8ff;}#sk-container-id-1 div.sk-toggleable__content pre {margin: 0.2em;color: black;border-radius: 0.25em;background-color: #f0f8ff;}#sk-container-id-1 input.sk-toggleable__control:checked~div.sk-toggleable__content {max-height: 200px;max-width: 100%;overflow: auto;}#sk-container-id-1 input.sk-toggleable__control:checked~label.sk-toggleable__label-arrow:before {content: \"▾\";}#sk-container-id-1 div.sk-estimator input.sk-toggleable__control:checked~label.sk-toggleable__label {background-color: #d4ebff;}#sk-container-id-1 div.sk-label input.sk-toggleable__control:checked~label.sk-toggleable__label {background-color: #d4ebff;}#sk-container-id-1 input.sk-hidden--visually {border: 0;clip: rect(1px 1px 1px 1px);clip: rect(1px, 1px, 1px, 1px);height: 1px;margin: -1px;overflow: hidden;padding: 0;position: absolute;width: 1px;}#sk-container-id-1 div.sk-estimator {font-family: monospace;background-color: #f0f8ff;border: 1px dotted black;border-radius: 0.25em;box-sizing: border-box;margin-bottom: 0.5em;}#sk-container-id-1 div.sk-estimator:hover {background-color: #d4ebff;}#sk-container-id-1 div.sk-parallel-item::after {content: \"\";width: 100%;border-bottom: 1px solid gray;flex-grow: 1;}#sk-container-id-1 div.sk-label:hover label.sk-toggleable__label {background-color: #d4ebff;}#sk-container-id-1 div.sk-serial::before {content: \"\";position: absolute;border-left: 1px solid gray;box-sizing: border-box;top: 0;bottom: 0;left: 50%;z-index: 0;}#sk-container-id-1 div.sk-serial {display: flex;flex-direction: column;align-items: center;background-color: white;padding-right: 0.2em;padding-left: 0.2em;position: relative;}#sk-container-id-1 div.sk-item {position: relative;z-index: 1;}#sk-container-id-1 div.sk-parallel {display: flex;align-items: stretch;justify-content: center;background-color: white;position: relative;}#sk-container-id-1 div.sk-item::before, #sk-container-id-1 div.sk-parallel-item::before {content: \"\";position: absolute;border-left: 1px solid gray;box-sizing: border-box;top: 0;bottom: 0;left: 50%;z-index: -1;}#sk-container-id-1 div.sk-parallel-item {display: flex;flex-direction: column;z-index: 1;position: relative;background-color: white;}#sk-container-id-1 div.sk-parallel-item:first-child::after {align-self: flex-end;width: 50%;}#sk-container-id-1 div.sk-parallel-item:last-child::after {align-self: flex-start;width: 50%;}#sk-container-id-1 div.sk-parallel-item:only-child::after {width: 0;}#sk-container-id-1 div.sk-dashed-wrapped {border: 1px dashed gray;margin: 0 0.4em 0.5em 0.4em;box-sizing: border-box;padding-bottom: 0.4em;background-color: white;}#sk-container-id-1 div.sk-label label {font-family: monospace;font-weight: bold;display: inline-block;line-height: 1.2em;}#sk-container-id-1 div.sk-label-container {text-align: center;}#sk-container-id-1 div.sk-container {/* jupyter's `normalize.less` sets `[hidden] { display: none; }` but bootstrap.min.css set `[hidden] { display: none !important; }` so we also need the `!important` here to be able to override the default hidden behavior on the sphinx rendered scikit-learn.org. See: https://github.com/scikit-learn/scikit-learn/issues/21755 */display: inline-block !important;position: relative;}#sk-container-id-1 div.sk-text-repr-fallback {display: none;}</style><div id=\"sk-container-id-1\" class=\"sk-top-container\"><div class=\"sk-text-repr-fallback\"><pre>Pipeline(steps=[(&#x27;transform_cols&#x27;,\n",
       "                 FunctionTransformer(func=&lt;function transform_cols at 0x7ef6fd317760&gt;)),\n",
       "                (&#x27;classifier&#x27;,\n",
       "                 HistGradientBoostingClassifier(class_weight=&#x27;balanced&#x27;,\n",
       "                                                max_depth=10, max_iter=90,\n",
       "                                                random_state=42))])</pre><b>In a Jupyter environment, please rerun this cell to show the HTML representation or trust the notebook. <br />On GitHub, the HTML representation is unable to render, please try loading this page with nbviewer.org.</b></div><div class=\"sk-container\" hidden><div class=\"sk-item sk-dashed-wrapped\"><div class=\"sk-label-container\"><div class=\"sk-label sk-toggleable\"><input class=\"sk-toggleable__control sk-hidden--visually\" id=\"sk-estimator-id-1\" type=\"checkbox\" ><label for=\"sk-estimator-id-1\" class=\"sk-toggleable__label sk-toggleable__label-arrow\">Pipeline</label><div class=\"sk-toggleable__content\"><pre>Pipeline(steps=[(&#x27;transform_cols&#x27;,\n",
       "                 FunctionTransformer(func=&lt;function transform_cols at 0x7ef6fd317760&gt;)),\n",
       "                (&#x27;classifier&#x27;,\n",
       "                 HistGradientBoostingClassifier(class_weight=&#x27;balanced&#x27;,\n",
       "                                                max_depth=10, max_iter=90,\n",
       "                                                random_state=42))])</pre></div></div></div><div class=\"sk-serial\"><div class=\"sk-item\"><div class=\"sk-estimator sk-toggleable\"><input class=\"sk-toggleable__control sk-hidden--visually\" id=\"sk-estimator-id-2\" type=\"checkbox\" ><label for=\"sk-estimator-id-2\" class=\"sk-toggleable__label sk-toggleable__label-arrow\">FunctionTransformer</label><div class=\"sk-toggleable__content\"><pre>FunctionTransformer(func=&lt;function transform_cols at 0x7ef6fd317760&gt;)</pre></div></div></div><div class=\"sk-item\"><div class=\"sk-estimator sk-toggleable\"><input class=\"sk-toggleable__control sk-hidden--visually\" id=\"sk-estimator-id-3\" type=\"checkbox\" ><label for=\"sk-estimator-id-3\" class=\"sk-toggleable__label sk-toggleable__label-arrow\">HistGradientBoostingClassifier</label><div class=\"sk-toggleable__content\"><pre>HistGradientBoostingClassifier(class_weight=&#x27;balanced&#x27;, max_depth=10,\n",
       "                               max_iter=90, random_state=42)</pre></div></div></div></div></div></div></div>"
      ],
      "text/plain": [
       "Pipeline(steps=[('transform_cols',\n",
       "                 FunctionTransformer(func=<function transform_cols at 0x7ef6fd317760>)),\n",
       "                ('classifier',\n",
       "                 HistGradientBoostingClassifier(class_weight='balanced',\n",
       "                                                max_depth=10, max_iter=90,\n",
       "                                                random_state=42))])"
      ]
     },
     "execution_count": 8,
     "metadata": {},
     "output_type": "execute_result"
    }
   ],
   "source": [
    "target = pd.read_csv('/kaggle/input/target/train_target.csv')\n",
    "y = target['flag'].astype('int8')\n",
    "\n",
    "pipe = Pipeline(steps=[\n",
    "    ('transform_cols', FunctionTransformer(transform_cols)),\n",
    "    ('classifier', HistGradientBoostingClassifier(class_weight='balanced', max_depth=10, \n",
    "                                                  max_iter=90, random_state=42))\n",
    "])\n",
    "\n",
    "pipe.fit(X, y)"
   ]
  },
  {
   "cell_type": "code",
   "execution_count": 9,
   "metadata": {
    "execution": {
     "iopub.execute_input": "2023-11-24T09:41:35.783949Z",
     "iopub.status.busy": "2023-11-24T09:41:35.783176Z",
     "iopub.status.idle": "2023-11-24T09:48:10.626012Z",
     "shell.execute_reply": "2023-11-24T09:48:10.624659Z",
     "shell.execute_reply.started": "2023-11-24T09:41:35.783887Z"
    }
   },
   "outputs": [
    {
     "data": {
      "text/plain": [
       "array([0, 1, 1, ..., 1, 1, 1], dtype=int8)"
      ]
     },
     "execution_count": 9,
     "metadata": {},
     "output_type": "execute_result"
    }
   ],
   "source": [
    "predictions = pipe.predict(X)\n",
    "predictions"
   ]
  },
  {
   "cell_type": "code",
   "execution_count": 10,
   "metadata": {
    "execution": {
     "iopub.execute_input": "2023-11-24T09:48:31.826052Z",
     "iopub.status.busy": "2023-11-24T09:48:31.825667Z",
     "iopub.status.idle": "2023-11-24T09:48:31.836771Z",
     "shell.execute_reply": "2023-11-24T09:48:31.835054Z",
     "shell.execute_reply.started": "2023-11-24T09:48:31.826015Z"
    }
   },
   "outputs": [],
   "source": [
    "filename = 'pipeline.pkl'\n",
    "\n",
    "with open(filename, 'wb') as file:\n",
    "    pickle.dump(pipe, file)"
   ]
  }
 ],
 "metadata": {
  "kaggle": {
   "accelerator": "none",
   "dataSources": [
    {
     "datasetId": 3890547,
     "sourceId": 6758898,
     "sourceType": "datasetVersion"
    },
    {
     "datasetId": 3893232,
     "sourceId": 6764532,
     "sourceType": "datasetVersion"
    },
    {
     "datasetId": 4037099,
     "sourceId": 7020607,
     "sourceType": "datasetVersion"
    },
    {
     "datasetId": 4037220,
     "sourceId": 7020786,
     "sourceType": "datasetVersion"
    },
    {
     "datasetId": 4037814,
     "sourceId": 7021704,
     "sourceType": "datasetVersion"
    },
    {
     "datasetId": 4041268,
     "sourceId": 7026752,
     "sourceType": "datasetVersion"
    },
    {
     "datasetId": 4041317,
     "sourceId": 7026831,
     "sourceType": "datasetVersion"
    }
   ],
   "dockerImageVersionId": 30558,
   "isGpuEnabled": false,
   "isInternetEnabled": false,
   "language": "python",
   "sourceType": "notebook"
  },
  "kernelspec": {
   "display_name": "Python 3 (ipykernel)",
   "language": "python",
   "name": "python3"
  },
  "language_info": {
   "codemirror_mode": {
    "name": "ipython",
    "version": 3
   },
   "file_extension": ".py",
   "mimetype": "text/x-python",
   "name": "python",
   "nbconvert_exporter": "python",
   "pygments_lexer": "ipython3",
   "version": "3.9.13"
  }
 },
 "nbformat": 4,
 "nbformat_minor": 4
}
